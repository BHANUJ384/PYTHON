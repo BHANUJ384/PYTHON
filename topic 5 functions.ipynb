{
 "cells": [
  {
   "cell_type": "code",
   "execution_count": 9,
   "metadata": {},
   "outputs": [
    {
     "name": "stdout",
     "output_type": "stream",
     "text": [
      "5\n",
      "2\n"
     ]
    },
    {
     "data": {
      "text/plain": [
       "10"
      ]
     },
     "execution_count": 9,
     "metadata": {},
     "output_type": "execute_result"
    }
   ],
   "source": [
    "### this code is long and somewhat tough to understand so that we can use the function\n",
    "\n",
    "n=int(input())\n",
    "r=int(input())\n",
    "n_fact=1\n",
    "for x in range(1,n+1):\n",
    "    n_fact=n_fact*x\n",
    "r_fact=1\n",
    "for y in range(1,r+1):\n",
    "    r_fact=r_fact*y\n",
    "n_r_fact=1\n",
    "for z in range(1,n-r+1):\n",
    "    n_r_fact=n_r_fact*z\n",
    "ans=n_fact//(r_fact*n_r_fact)\n",
    "ans\n",
    "\n",
    "\n"
   ]
  },
  {
   "cell_type": "markdown",
   "metadata": {},
   "source": [
    "### use of funtion to find nCr"
   ]
  },
  {
   "cell_type": "code",
   "execution_count": 7,
   "metadata": {},
   "outputs": [
    {
     "name": "stdout",
     "output_type": "stream",
     "text": [
      "5\n",
      "2\n"
     ]
    },
    {
     "data": {
      "text/plain": [
       "10"
      ]
     },
     "execution_count": 7,
     "metadata": {},
     "output_type": "execute_result"
    }
   ],
   "source": [
    "def fact(a):\n",
    "    a_fact=1\n",
    "    for i in range(1,a+1):\n",
    "        a_fact=a_fact*i\n",
    "    return a_fact\n",
    "n=int(input())\n",
    "r=int(input())\n",
    "n_fact=fact(n)\n",
    "r_fact=fact(r)\n",
    "n_r_fact=fact(n-r)\n",
    "ans=(n_fact//(r_fact*n_r_fact))\n",
    "ans"
   ]
  },
  {
   "cell_type": "markdown",
   "metadata": {},
   "source": [
    "### use function to check if a number is prime or not and then print all the prime number from 2 to n.|"
   ]
  },
  {
   "cell_type": "code",
   "execution_count": 47,
   "metadata": {},
   "outputs": [
    {
     "name": "stdout",
     "output_type": "stream",
     "text": [
      "8\n",
      "False\n"
     ]
    }
   ],
   "source": [
    "### check a number is prime or not.\n",
    "### True if prime else False.\n",
    "\n",
    "def isprime(a):\n",
    "    for d in range(2,a):\n",
    "        if a%d==0:\n",
    "            break\n",
    "    else:\n",
    "        return True ### as the return statement is written ,the loop will not continue below the \"return true\" statement.\n",
    "    return False   ### if the loop does not go to the else statement then it will go to the \"return False\" statement. \n",
    "n=int(input())\n",
    "k=isprime(n)\n",
    "print(k)"
   ]
  },
  {
   "cell_type": "code",
   "execution_count": 18,
   "metadata": {},
   "outputs": [],
   "source": [
    "### print all the prime number from 2 to n.\n",
    "### defining the function to print prime number from 2 to n.\n",
    "\n",
    "def primeFrom2toN(s):\n",
    "    for i in range(2,s+1):\n",
    "        is_i_prime=isprime(i) ### isprime has been defined in the above code.\n",
    "        if (is_i_prime):\n",
    "            print(i)\n",
    "### this code will not run untill and unless if we not call the function.\n",
    "\n",
    "        "
   ]
  },
  {
   "cell_type": "code",
   "execution_count": 19,
   "metadata": {},
   "outputs": [
    {
     "name": "stdout",
     "output_type": "stream",
     "text": [
      "2\n",
      "3\n",
      "5\n",
      "7\n",
      "11\n",
      "13\n",
      "17\n",
      "19\n"
     ]
    }
   ],
   "source": [
    "### calling the function.\n",
    "\n",
    "primeFrom2toN(20)\n"
   ]
  },
  {
   "cell_type": "markdown",
   "metadata": {},
   "source": [
    "### we can define function anywhere and can call the function anywhere."
   ]
  },
  {
   "cell_type": "code",
   "execution_count": 4,
   "metadata": {},
   "outputs": [],
   "source": [
    "def isprime(a):\n",
    "    for x in range(2,a):\n",
    "        if a%x==0:\n",
    "            break\n",
    "    else:\n",
    "        return True\n",
    "    return False\n"
   ]
  },
  {
   "cell_type": "code",
   "execution_count": 7,
   "metadata": {},
   "outputs": [
    {
     "name": "stdout",
     "output_type": "stream",
     "text": [
      "3\n",
      "True\n"
     ]
    }
   ],
   "source": [
    "n=int(input())\n",
    "k=isprime(n)\n",
    "print(k)"
   ]
  },
  {
   "cell_type": "code",
   "execution_count": 9,
   "metadata": {},
   "outputs": [],
   "source": [
    "def primefrom2ton(b):\n",
    "    for i in range(2,b+1):\n",
    "        is_i_prime=isprime(i)\n",
    "        if(is_i_prime):\n",
    "            print(i)"
   ]
  },
  {
   "cell_type": "code",
   "execution_count": 10,
   "metadata": {},
   "outputs": [
    {
     "name": "stdout",
     "output_type": "stream",
     "text": [
      "2\n",
      "3\n",
      "5\n",
      "7\n",
      "11\n",
      "13\n",
      "17\n",
      "19\n",
      "23\n",
      "29\n"
     ]
    }
   ],
   "source": [
    "primefrom2ton(30)"
   ]
  },
  {
   "cell_type": "code",
   "execution_count": 2,
   "metadata": {},
   "outputs": [
    {
     "data": {
      "text/plain": [
       "15"
      ]
     },
     "execution_count": 2,
     "metadata": {},
     "output_type": "execute_result"
    }
   ],
   "source": [
    "def func(a):\n",
    "    a = a + 10\n",
    "    return a\n",
    "a = 5\n",
    "func(a)\n",
    "print(a)"
   ]
  },
  {
   "cell_type": "code",
   "execution_count": 22,
   "metadata": {},
   "outputs": [
    {
     "name": "stdout",
     "output_type": "stream",
     "text": [
      "16\n"
     ]
    }
   ],
   "source": [
    "def square(a):\n",
    "    ans  = a*a\n",
    "    return  ans\n",
    "\n",
    "a = 4\n",
    "a = square(a)\n",
    "print(a)"
   ]
  },
  {
   "cell_type": "markdown",
   "metadata": {},
   "source": [
    "### scope of variable "
   ]
  },
  {
   "cell_type": "code",
   "execution_count": null,
   "metadata": {},
   "outputs": [],
   "source": [
    "### local variable-defined inside the function.\n",
    "### global variable- defined outside the function."
   ]
  },
  {
   "cell_type": "code",
   "execution_count": 41,
   "metadata": {},
   "outputs": [
    {
     "name": "stdout",
     "output_type": "stream",
     "text": [
      "14\n"
     ]
    }
   ],
   "source": [
    "a = 14\n",
    "def f():\n",
    "    a=12\n",
    "f()\n",
    "print(a)"
   ]
  },
  {
   "cell_type": "code",
   "execution_count": 34,
   "metadata": {},
   "outputs": [
    {
     "name": "stdout",
     "output_type": "stream",
     "text": [
      "12\n"
     ]
    }
   ],
   "source": [
    "a=14\n",
    "def f():\n",
    "    global a\n",
    "    a=12\n",
    "f()\n",
    "print(a)"
   ]
  },
  {
   "cell_type": "code",
   "execution_count": 4,
   "metadata": {},
   "outputs": [
    {
     "name": "stdout",
     "output_type": "stream",
     "text": [
      "14\n"
     ]
    }
   ],
   "source": [
    "a = 14\n",
    "def f():\n",
    "    a = 12\n",
    "    return a\n",
    "a = f()\n",
    "print(a)"
   ]
  },
  {
   "cell_type": "code",
   "execution_count": null,
   "metadata": {},
   "outputs": [],
   "source": []
  },
  {
   "cell_type": "code",
   "execution_count": 12,
   "metadata": {},
   "outputs": [
    {
     "name": "stdout",
     "output_type": "stream",
     "text": [
      "python isawesome\n"
     ]
    }
   ],
   "source": [
    "x=\"awesome\"\n",
    "def myfunction():\n",
    "    print(\"python is\"+ x)\n",
    "myfunction()"
   ]
  },
  {
   "cell_type": "markdown",
   "metadata": {},
   "source": [
    "### fahrenheit to degree table"
   ]
  },
  {
   "cell_type": "code",
   "execution_count": 37,
   "metadata": {},
   "outputs": [
    {
     "name": "stdout",
     "output_type": "stream",
     "text": [
      "10\n",
      "100\n",
      "10\n",
      "10 \t -12\n",
      "20 \t -6\n",
      "30 \t -1\n",
      "40 \t 4\n",
      "50 \t 10\n",
      "60 \t 15\n",
      "70 \t 21\n",
      "80 \t 26\n",
      "90 \t 32\n",
      "100 \t 37\n"
     ]
    }
   ],
   "source": [
    "\n",
    "def printTable(S,E,W):\n",
    "    var1=S\n",
    "    while var1<=E:\n",
    "        var2=(var1-32)/1.8\n",
    "        print(var1,\"\\t\",int(var2))\n",
    "        var1=var1+W\n",
    "        pass    \n",
    "s = int(input())\n",
    "e = int(input())\n",
    "step = int(input())\n",
    "printTable(s,e,step)\n",
    "\n",
    "\n",
    "\n"
   ]
  },
  {
   "cell_type": "markdown",
   "metadata": {},
   "source": [
    "### fabonacci member"
   ]
  },
  {
   "cell_type": "code",
   "execution_count": 26,
   "metadata": {},
   "outputs": [
    {
     "name": "stdout",
     "output_type": "stream",
     "text": [
      "14\n",
      "False\n"
     ]
    }
   ],
   "source": [
    "def isPerfectSquare(n) : \n",
    "    i = 1\n",
    "    while(i * i<= n): \n",
    "        if ((n % i == 0) and (n / i == i)): \n",
    "            return True\n",
    "        i = i + 1\n",
    "    return False\n",
    "def isFibonacci(n):\n",
    "    return isPerfectSquare(5*n*n + 4) or isPerfectSquare(5*n*n - 4) \n",
    "n=int(input())\n",
    "k=isFibonacci(n)\n",
    "print(k)\n",
    "\n",
    "\n"
   ]
  },
  {
   "cell_type": "code",
   "execution_count": null,
   "metadata": {},
   "outputs": [],
   "source": [
    "def isPerfectSquare(n) : \n",
    "    i = 1\n",
    "    while(i * i<= n): \n",
    "        if ((n % i == 0) and (n / i == i)): \n",
    "            return True\n",
    "        i = i + 1\n",
    "    return False\n",
    "def isFibonacci(n):\n",
    "    return isPerfectSquare(5*n*n + 4) or isPerfectSquare(5*n*n - 4) \n",
    "n=int(input())\n",
    "if isFibonacci(n): \n",
    "    print(\"true\")\n",
    "else:\n",
    "    print(\"false\")\n"
   ]
  },
  {
   "cell_type": "markdown",
   "metadata": {},
   "source": [
    "### check palindrome"
   ]
  },
  {
   "cell_type": "code",
   "execution_count": 2,
   "metadata": {},
   "outputs": [
    {
     "name": "stdout",
     "output_type": "stream",
     "text": [
      "121\n",
      "true\n"
     ]
    }
   ],
   "source": [
    "def checkPalindrome(num):\n",
    "    temp=num\n",
    "    rev=0\n",
    "    while num>0:\n",
    "        x=num%10\n",
    "        rev=rev*10+x\n",
    "        y=num//10\n",
    "        num=y\n",
    "        if temp==rev:\n",
    "            return temp\n",
    "n= int(input())\n",
    "isPalindrome = checkPalindrome(n)\n",
    "if(isPalindrome):\n",
    "    print('true')\n",
    "else:\n",
    "    print('false')\n"
   ]
  },
  {
   "cell_type": "markdown",
   "metadata": {},
   "source": [
    "### Check Armstrong"
   ]
  },
  {
   "cell_type": "markdown",
   "metadata": {},
   "source": [
    "### An Armstrong number is a number (with digits n) such that the sum of its digits raised to nth power is equal to the number itself."
   ]
  },
  {
   "cell_type": "code",
   "execution_count": 4,
   "metadata": {},
   "outputs": [
    {
     "data": {
      "text/plain": [
       "1634"
      ]
     },
     "execution_count": 4,
     "metadata": {},
     "output_type": "execute_result"
    }
   ],
   "source": [
    "(1**4)+(6**4)+(3**4)+(4**4)"
   ]
  },
  {
   "cell_type": "code",
   "execution_count": 71,
   "metadata": {},
   "outputs": [
    {
     "name": "stdout",
     "output_type": "stream",
     "text": [
      "103\n",
      "false\n"
     ]
    }
   ],
   "source": [
    "### initializing number of digits.\n",
    "sum=0\n",
    "times=0\n",
    "### calculating number of individual digits.\n",
    "def count_of_digits(number):\n",
    "    global times\n",
    "    if (number>0):\n",
    "        times=times+1\n",
    "        count_of_digits(number//10)\n",
    "    return times\n",
    "### end of count of digits function.\n",
    "\n",
    "### finding armstrong number.\n",
    "def armstrong_numbers(number,times):\n",
    "    global sum\n",
    "    if(number>0):\n",
    "        reminder=number%10\n",
    "        sum=sum+(reminder**times)\n",
    "        armstrong_numbers(number//10,times)\n",
    "    return sum\n",
    "### end of armstrong funtion.\n",
    "\n",
    "###user input.\n",
    "number=int(input())\n",
    "times=count_of_digits(number)\n",
    "sum=armstrong_numbers(number,times)\n",
    "if number==sum:\n",
    "    print(\"true\")\n",
    "else:\n",
    "    print(\"false\")"
   ]
  },
  {
   "cell_type": "markdown",
   "metadata": {},
   "source": [
    "### another method (by me)"
   ]
  },
  {
   "cell_type": "code",
   "execution_count": 47,
   "metadata": {},
   "outputs": [
    {
     "name": "stdout",
     "output_type": "stream",
     "text": [
      "1634\n",
      "true\n"
     ]
    }
   ],
   "source": [
    "### calculating the number of digits.\n",
    "time=0\n",
    "def check_digits(n):\n",
    "    global time\n",
    "    while n>0:\n",
    "        x=n%10\n",
    "        time=time+1\n",
    "        y=n//10\n",
    "        n=y\n",
    "    return time\n",
    "### ending with calculating the number of digits in term of \"time\".\n",
    "\n",
    "### calculating the amstrong number.\n",
    "\n",
    "def amstrong_number(n):\n",
    "    check_time=check_digits(n)\n",
    "    amstrong=0\n",
    "    while n>0:\n",
    "        x=n%10\n",
    "        amstrong=amstrong+(x**check_time)\n",
    "        y=n//10\n",
    "        n=y\n",
    "    return amstrong\n",
    "### ending with calculating the amstrong number in term of \"amstrong\".\n",
    "\n",
    "### input user. and checking the amstrong number.\n",
    "n=int(input())\n",
    "amstrong_num=amstrong_number(n)\n",
    "if amstrong_num==n:\n",
    "    print(\"true\")\n",
    "else:\n",
    "    print(\"false\")"
   ]
  },
  {
   "cell_type": "code",
   "execution_count": 3,
   "metadata": {},
   "outputs": [
    {
     "data": {
      "text/plain": [
       "1634"
      ]
     },
     "execution_count": 3,
     "metadata": {},
     "output_type": "execute_result"
    }
   ],
   "source": [
    "(1**4)+(6**4)+(3**4)+(4**4)\n",
    "\n"
   ]
  },
  {
   "cell_type": "code",
   "execution_count": null,
   "metadata": {},
   "outputs": [],
   "source": []
  }
 ],
 "metadata": {
  "kernelspec": {
   "display_name": "Python 3",
   "language": "python",
   "name": "python3"
  },
  "language_info": {
   "codemirror_mode": {
    "name": "ipython",
    "version": 3
   },
   "file_extension": ".py",
   "mimetype": "text/x-python",
   "name": "python",
   "nbconvert_exporter": "python",
   "pygments_lexer": "ipython3",
   "version": "3.7.4"
  }
 },
 "nbformat": 4,
 "nbformat_minor": 4
}
