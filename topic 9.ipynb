{
 "cells": [
  {
   "cell_type": "markdown",
   "metadata": {},
   "source": [
    "### to print column wise element"
   ]
  },
  {
   "cell_type": "code",
   "execution_count": 1,
   "metadata": {},
   "outputs": [
    {
     "name": "stdout",
     "output_type": "stream",
     "text": [
      "1 5 9 2 6 10 3 7 11 4 8 12 "
     ]
    }
   ],
   "source": [
    "li=[[1,2,3,4],[5,6,7,8],[9,10,11,12]]\n",
    "M=3\n",
    "N=4\n",
    "for i in range(N):\n",
    "    for j in range(M):\n",
    "        print(li[j][i],end=\" \")"
   ]
  },
  {
   "cell_type": "markdown",
   "metadata": {},
   "source": [
    "### row wise sum"
   ]
  },
  {
   "cell_type": "code",
   "execution_count": 13,
   "metadata": {},
   "outputs": [
    {
     "name": "stdout",
     "output_type": "stream",
     "text": [
      "3 4\n",
      "1 2 3 4 5 6 7 8 9 10 11 12\n",
      "10 26 42 "
     ]
    }
   ],
   "source": [
    "def rowsum(li,M,N):\n",
    "    m=len(li)\n",
    "    n=len(li[0])\n",
    "    for i in range(m):\n",
    "        sum=0\n",
    "        for j in range(n):\n",
    "            sum=sum+li[i][j]\n",
    "        print(sum,end=\" \")\n",
    "str=input().split()\n",
    "M,N=int(str[1]),int(str[0])\n",
    "b=input().split()\n",
    "li=[[int(b[M*i+j]) for j in range(M)]for i in range(N)]\n",
    "rowsum(li,M,N)\n",
    "\n",
    "\n",
    "    \n"
   ]
  },
  {
   "cell_type": "code",
   "execution_count": 10,
   "metadata": {},
   "outputs": [
    {
     "name": "stdout",
     "output_type": "stream",
     "text": [
      "3 4\n",
      "1 2 3 4 5 6 7 8 9 10 11 12\n",
      "10 26 42 "
     ]
    }
   ],
   "source": [
    "str=input().split()\n",
    "M,N=int(str[1]),int(str[0])\n",
    "b=input().split()\n",
    "li=[[int(b[M*i+j]) for j in range(M)]for i in range(N)]\n",
    "m=len(li)\n",
    "n=len(li[0])\n",
    "for i in range(m):   # loop for row\n",
    "        sum=0\n",
    "        for j in range(n):     ### loop for column\n",
    "            sum=sum+li[i][j]\n",
    "        print(sum,end=\" \")\n"
   ]
  },
  {
   "cell_type": "markdown",
   "metadata": {},
   "source": [
    "### column wise sum and print the highest sum with the index number"
   ]
  },
  {
   "cell_type": "code",
   "execution_count": 7,
   "metadata": {},
   "outputs": [
    {
     "name": "stdout",
     "output_type": "stream",
     "text": [
      "20   2\n"
     ]
    }
   ],
   "source": [
    "li=[[1,2,3,4],[8,7,6,5],[9,10,11,7]]\n",
    "M=3\n",
    "N=4\n",
    "max_sum=-1\n",
    "max_sum_index=-1\n",
    "for i in range(N):   # loop for column\n",
    "    sum=0\n",
    "    for j in range(M):   # lopp for row\n",
    "        sum+=li[j][i]\n",
    "        if sum>=max_sum:\n",
    "            max_sum=sum\n",
    "            max_sum_index=i\n",
    "print(max_sum,\" \",max_sum_index)\n",
    "    "
   ]
  },
  {
   "cell_type": "code",
   "execution_count": 15,
   "metadata": {},
   "outputs": [
    {
     "name": "stdout",
     "output_type": "stream",
     "text": [
      "3 4\n",
      "1 2 3 4 8 7 6 5 9 10 11 12\n",
      "20   2\n"
     ]
    }
   ],
   "source": [
    "def col_gretest_sum(li,M,N):\n",
    "    m=len(li)\n",
    "    n=len(li[0])\n",
    "    max_sum=-1\n",
    "    max_sum_index=-1\n",
    "    for i in range(n):   # loop for column\n",
    "        sum=0\n",
    "        for j in range(m):   # lopp for row\n",
    "            sum+=li[j][i]\n",
    "            if sum>=max_sum:\n",
    "                max_sum=sum\n",
    "                max_sum_index=i\n",
    "    return max_sum,max_sum_index\n",
    "\n",
    "str=input().split()\n",
    "M,N=int(str[1]),int(str[0])\n",
    "b=input().split()\n",
    "li=[[int(b[M*i+j]) for j in range(M)] for i in range(N)]\n",
    "col_gretest_sum(li,M,N)\n",
    "print(max_sum,\" \",max_sum_index)"
   ]
  },
  {
   "cell_type": "markdown",
   "metadata": {},
   "source": [
    "### largest row or column"
   ]
  },
  {
   "cell_type": "code",
   "execution_count": 1,
   "metadata": {},
   "outputs": [
    {
     "name": "stdout",
     "output_type": "stream",
     "text": [
      "3 4\n",
      "1 2 3 4 5 6 7 8 9 10 11 12\n",
      "row 2 42\n"
     ]
    }
   ],
   "source": [
    "str=input().split()\n",
    "M,N=int(str[1]),int(str[0])\n",
    "b=input().split()\n",
    "li=[[int(b[M*i+j]) for j in range(M)]for i in range(N)]\n",
    "m=len(li)\n",
    "n=len(li[0])\n",
    "max_sum_row=-1\n",
    "max_sum_row_index=-1\n",
    "max_sum_column=-1\n",
    "max_sum_column_index=-1\n",
    "### checking for largest column\n",
    "\n",
    "for i in range(n):   # loop for column\n",
    "    sum=0\n",
    "    for j in range(m):   # loop for row\n",
    "        sum+=li[j][i]\n",
    "        if sum>max_sum_column:\n",
    "            max_sum_column=sum\n",
    "            max_sum_column_index=i\n",
    "\n",
    "### checking for largest row\n",
    "\n",
    "for k in range(m):   # loop for row\n",
    "    sum1=0\n",
    "    for l in range(n):   # lopp for column\n",
    "        sum1+=li[k][l]\n",
    "        if sum1>max_sum_row:\n",
    "            max_sum_row=sum1\n",
    "            max_sum_row_index=k\n",
    "if max_sum_row>=max_sum_column:\n",
    "    print(\"row\",max_sum_row_index,max_sum_row)\n",
    "else:\n",
    "    print(\"column\",max_sum_column_index,max_sum_column)"
   ]
  },
  {
   "cell_type": "markdown",
   "metadata": {},
   "source": [
    "### wave print"
   ]
  },
  {
   "cell_type": "code",
   "execution_count": 62,
   "metadata": {},
   "outputs": [
    {
     "name": "stdout",
     "output_type": "stream",
     "text": [
      "3 4\n",
      "1 2 3 4 5 6 7 8 9 10 11 12\n",
      "1 5 9 10 6 2 3 7 11 12 8 4 "
     ]
    }
   ],
   "source": [
    "### this code will not work for jagged list.\n",
    "### see below code.\n",
    "\n",
    "str=input().split()\n",
    "N,M=int(str[1]),int(str[0])   ### N is row and M is column.\n",
    "b=input().split()\n",
    "li=[[int(b[N*i+j]) for j in range(N)]for i in range(M)]\n",
    "n=len(li)\n",
    "m=len(li[0])\n",
    "if m>1:\n",
    "    for i in range(m):\n",
    "        if i%2!=0:\n",
    "            for j in range(n-1,-1,-1):\n",
    "                print(li[j][i],end=\" \")\n",
    "        else:\n",
    "            for j in range(n):\n",
    "                print(li[j][i],end=\" \")"
   ]
  },
  {
   "cell_type": "code",
   "execution_count": 2,
   "metadata": {},
   "outputs": [
    {
     "name": "stdout",
     "output_type": "stream",
     "text": [
      "1\n"
     ]
    },
    {
     "ename": "IndexError",
     "evalue": "list index out of range",
     "output_type": "error",
     "traceback": [
      "\u001b[1;31m---------------------------------------------------------------------------\u001b[0m",
      "\u001b[1;31mIndexError\u001b[0m                                Traceback (most recent call last)",
      "\u001b[1;32m<ipython-input-2-cd9bbc824191>\u001b[0m in \u001b[0;36m<module>\u001b[1;34m\u001b[0m\n\u001b[0;32m      1\u001b[0m \u001b[0mli\u001b[0m\u001b[1;33m=\u001b[0m\u001b[1;33m[\u001b[0m\u001b[0mint\u001b[0m\u001b[1;33m(\u001b[0m\u001b[0mx\u001b[0m\u001b[1;33m)\u001b[0m \u001b[1;32mfor\u001b[0m \u001b[0mx\u001b[0m \u001b[1;32min\u001b[0m \u001b[0minput\u001b[0m\u001b[1;33m(\u001b[0m\u001b[1;33m)\u001b[0m\u001b[1;33m.\u001b[0m\u001b[0msplit\u001b[0m\u001b[1;33m(\u001b[0m\u001b[1;33m)\u001b[0m\u001b[1;33m]\u001b[0m\u001b[1;33m\u001b[0m\u001b[1;33m\u001b[0m\u001b[0m\n\u001b[0;32m      2\u001b[0m \u001b[0mn\u001b[0m\u001b[1;33m=\u001b[0m\u001b[0mli\u001b[0m\u001b[1;33m[\u001b[0m\u001b[1;36m0\u001b[0m\u001b[1;33m]\u001b[0m\u001b[1;33m\u001b[0m\u001b[1;33m\u001b[0m\u001b[0m\n\u001b[1;32m----> 3\u001b[1;33m \u001b[0mm\u001b[0m\u001b[1;33m=\u001b[0m\u001b[0mli\u001b[0m\u001b[1;33m[\u001b[0m\u001b[1;36m1\u001b[0m\u001b[1;33m]\u001b[0m\u001b[1;33m\u001b[0m\u001b[1;33m\u001b[0m\u001b[0m\n\u001b[0m\u001b[0;32m      4\u001b[0m \u001b[1;32mif\u001b[0m \u001b[0mn\u001b[0m\u001b[1;33m==\u001b[0m\u001b[1;36m0\u001b[0m \u001b[1;32mand\u001b[0m \u001b[0mm\u001b[0m\u001b[1;33m==\u001b[0m\u001b[1;36m0\u001b[0m\u001b[1;33m:\u001b[0m\u001b[1;33m\u001b[0m\u001b[1;33m\u001b[0m\u001b[0m\n\u001b[0;32m      5\u001b[0m     \u001b[0mexit\u001b[0m\u001b[1;33m(\u001b[0m\u001b[1;33m)\u001b[0m\u001b[1;33m\u001b[0m\u001b[1;33m\u001b[0m\u001b[0m\n",
      "\u001b[1;31mIndexError\u001b[0m: list index out of range"
     ]
    }
   ],
   "source": [
    "li=[int(x) for x in input().split()]\n",
    "n=li[0]\n",
    "m=li[1]\n",
    "if n==0 and m==0:\n",
    "    exit()\n",
    "arr=[0]*n\n",
    "for i in range(n):\n",
    "    arr[i]=[int(x) for x in input().split()]\n",
    "if m>1:\n",
    "    for i in range(m):\n",
    "        if i%2!=0:\n",
    "            for j in range(n-1,-1,-1):\n",
    "                print(arr[j][i],end=\" \")\n",
    "        else:\n",
    "            for j in range(n):\n",
    "                print(arr[j][i],end=\" \")\n",
    "\n",
    "\n",
    "\n",
    "\n",
    "\n"
   ]
  },
  {
   "cell_type": "code",
   "execution_count": null,
   "metadata": {},
   "outputs": [],
   "source": [
    "'''see in this we have to take input row wise \n",
    "\n",
    "\n",
    "so we have defined an arr with all it's elements as 0 \n",
    "\n",
    "\n",
    "and then we will run a loop equal to the number of rows \n",
    "\n",
    "\n",
    "and for every row we will takr the input for the elements '''"
   ]
  },
  {
   "cell_type": "code",
   "execution_count": null,
   "metadata": {},
   "outputs": [],
   "source": [
    "from sys import stdin\n",
    "\n",
    "def wavePrint(mat, nRows, mCols):\n",
    "    if nRows==0:\n",
    "        return \n",
    "    for j in range(mCols):\n",
    "        if j%2==0:\n",
    "            for i in range(nRows):\n",
    "                print(mat[i][j],end=\" \")\n",
    "        else:\n",
    "            for i in range(nRows-1,-1,-1):\n",
    "                print(mat[i][j],end=\" \")\n",
    "    #Your code goes here\n",
    "\n",
    "\n",
    "\n",
    "#Taking Iput Using Fast I/O\n",
    "def take2DInput() :\n",
    "    li = input().split()\n",
    "    nRows = int(li[0])\n",
    "    mCols = int(li[1])\n",
    "    \n",
    "    if nRows == 0 :\n",
    "        return list(), 0, 0\n",
    "    \n",
    "    mat = [list(map(int, input().strip().split(\" \"))) for row in range(nRows)]\n",
    "    return mat, nRows, mCols\n",
    "\n",
    "\n",
    "#main\n",
    "t = int(input())\n",
    "\n",
    "while t > 0 :\n",
    "\n",
    "    mat, nRows, mCols = take2DInput()\n",
    "    wavePrint(mat, nRows, mCols)\n",
    "    print()\n",
    "\n",
    "    t -= 1"
   ]
  },
  {
   "cell_type": "markdown",
   "metadata": {},
   "source": [
    "### spiral print"
   ]
  },
  {
   "cell_type": "code",
   "execution_count": null,
   "metadata": {},
   "outputs": [],
   "source": [
    "def spiralPrint(m, n, a) : \n",
    "    k = 0; l = 0\n",
    "  \n",
    "    ''' k - starting row index \n",
    "        m - ending row index  \n",
    "        l - starting column index \n",
    "        n - ending column index \n",
    "        i - iterator '''\n",
    "      \n",
    "  \n",
    "    while (k < m and l < n) : \n",
    "          \n",
    "        # Print the first row from \n",
    "        # the remaining rows  \n",
    "        for i in range(l, n) : \n",
    "            print(a[k][i], end = \" \") \n",
    "              \n",
    "        k += 1\n",
    "  \n",
    "        # Print the last column from \n",
    "        # the remaining columns  \n",
    "        for i in range(k, m) : \n",
    "            print(a[i][n - 1], end = \" \") \n",
    "              \n",
    "        n -= 1\n",
    "  \n",
    "        # Print the last row from \n",
    "        # the remaining rows  \n",
    "        if ( k < m) : \n",
    "              \n",
    "            for i in range(n - 1, (l - 1), -1) : \n",
    "                print(a[m - 1][i], end = \" \") \n",
    "              \n",
    "            m -= 1\n",
    "          \n",
    "        # Print the first column from \n",
    "        # the remaining columns  \n",
    "        if (l < n) : \n",
    "            for i in range(m - 1, k - 1, -1) : \n",
    "                print(a[i][l], end = \" \") \n",
    "              \n",
    "            l += 1\n",
    "a=[[1,2,3,4],[5,6,7,8],[9,10,11,12],[13,14,15,16]]\n",
    "R=4\n",
    "C=4\n",
    "spiralPrint(R, C, a) "
   ]
  },
  {
   "cell_type": "code",
   "execution_count": null,
   "metadata": {},
   "outputs": [],
   "source": [
    "from sys import stdin\n",
    "\n",
    "def spiralPrint(arr,rows,cols):\n",
    "    # rows=len(arr)\n",
    "    # cols=len(arr[0])\n",
    "    startrow,startcol, endrow ,endcol=0, 0, rows-1, cols-1\n",
    "    \n",
    "    while startrow<=endrow and startcol<=endcol:\n",
    "        for j in range(startcol,endcol+1):\n",
    "            print(arr[startrow][j],end=\" \")\n",
    "        startrow+=1\n",
    "        if startrow>endrow or startcol>endcol:\n",
    "            break\n",
    "        \n",
    "        for i in range(startrow,endrow+1):\n",
    "            print(arr[i][endcol],end=\" \")\n",
    "        endcol-=1\n",
    "        if startrow>endrow or startcol>endcol:\n",
    "            break\n",
    "            \n",
    "        for j in range(endcol,startcol-1,-1):\n",
    "            print(arr[endrow][j],end=\" \")\n",
    "        endrow-=1\n",
    "        \n",
    "        if startrow>endrow or startcol>endcol:\n",
    "            break\n",
    "            \n",
    "        for i in range(endrow,startrow-1,-1):\n",
    "            print(arr[i][startcol],end=\" \")\n",
    "        startcol+=1\n",
    "\n",
    "\n",
    "\n",
    "\n",
    "\n",
    "#Taking Input Using Fast I/O\n",
    "def take2DInput() :\n",
    "    li = stdin.readline().rstrip().split(\" \")\n",
    "    nRows = int(li[0])\n",
    "    mCols = int(li[1])\n",
    "    \n",
    "    if nRows == 0 :\n",
    "        return list(), 0, 0\n",
    "    \n",
    "    mat = [list(map(int, input().strip().split(\" \"))) for row in range(nRows)]\n",
    "    return mat, nRows, mCols\n",
    "\n",
    "\n",
    "#main\n",
    "t = int(stdin.readline().rstrip())\n",
    "\n",
    "while t > 0 :\n",
    "\n",
    "    mat, nRows, mCols = take2DInput()\n",
    "    spiralPrint(mat, nRows, mCols)\n",
    "    print()\n"
   ]
  }
 ],
 "metadata": {
  "kernelspec": {
   "display_name": "Python 3",
   "language": "python",
   "name": "python3"
  },
  "language_info": {
   "codemirror_mode": {
    "name": "ipython",
    "version": 3
   },
   "file_extension": ".py",
   "mimetype": "text/x-python",
   "name": "python",
   "nbconvert_exporter": "python",
   "pygments_lexer": "ipython3",
   "version": "3.7.4"
  }
 },
 "nbformat": 4,
 "nbformat_minor": 4
}
