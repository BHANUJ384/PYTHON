{
 "cells": [
  {
   "cell_type": "code",
   "execution_count": 1,
   "metadata": {},
   "outputs": [
    {
     "name": "stdout",
     "output_type": "stream",
     "text": [
      "1\n",
      "2\n",
      "3\n",
      "4\n",
      "5\n"
     ]
    },
    {
     "data": {
      "text/plain": [
       "[1, 2, 3, 4, 5]"
      ]
     },
     "execution_count": 1,
     "metadata": {},
     "output_type": "execute_result"
    }
   ],
   "source": [
    "### line seprated input\n",
    "\n",
    "li=[]\n",
    "n=5\n",
    "for i in range(n):\n",
    "    x=int(input())\n",
    "    li.append(x)\n",
    "li"
   ]
  },
  {
   "cell_type": "code",
   "execution_count": 2,
   "metadata": {},
   "outputs": [
    {
     "name": "stdout",
     "output_type": "stream",
     "text": [
      "1,2,3,4,5\n"
     ]
    },
    {
     "data": {
      "text/plain": [
       "['1', '2', '3', '4', '5']"
      ]
     },
     "execution_count": 2,
     "metadata": {},
     "output_type": "execute_result"
    }
   ],
   "source": [
    "### space seperated input but the problem is that the element of list is in the character form.\n",
    "\n",
    "li=input().split(\",\")\n",
    "li"
   ]
  },
  {
   "cell_type": "code",
   "execution_count": 3,
   "metadata": {},
   "outputs": [
    {
     "name": "stdout",
     "output_type": "stream",
     "text": [
      "1,2,3,4,5\n"
     ]
    },
    {
     "data": {
      "text/plain": [
       "[1, 2, 3, 4, 5]"
      ]
     },
     "execution_count": 3,
     "metadata": {},
     "output_type": "execute_result"
    }
   ],
   "source": [
    "### space seperated input using the list comprehension.\n",
    "\n",
    "li=[int(x) for x in input().split(\",\")]  ### with comma seperated input.\n",
    "li"
   ]
  },
  {
   "cell_type": "code",
   "execution_count": 5,
   "metadata": {},
   "outputs": [
    {
     "name": "stdout",
     "output_type": "stream",
     "text": [
      "1 2 3 4 5\n"
     ]
    },
    {
     "data": {
      "text/plain": [
       "[1, 2, 3, 4, 5]"
      ]
     },
     "execution_count": 5,
     "metadata": {},
     "output_type": "execute_result"
    }
   ],
   "source": [
    "li=[int(x) for x in input().split(\" \")]   ### with space seperated input.\n",
    "li"
   ]
  },
  {
   "cell_type": "code",
   "execution_count": 6,
   "metadata": {},
   "outputs": [
    {
     "name": "stdout",
     "output_type": "stream",
     "text": [
      "1 2 3 4 5\n"
     ]
    },
    {
     "data": {
      "text/plain": [
       "[1, 2, 3, 4, 5]"
      ]
     },
     "execution_count": 6,
     "metadata": {},
     "output_type": "execute_result"
    }
   ],
   "source": [
    "li=[int(x) for x in input().split()]   ### with space seperated input if we dont put comma in split function bracket..\n",
    "li"
   ]
  },
  {
   "cell_type": "markdown",
   "metadata": {},
   "source": [
    "### list"
   ]
  },
  {
   "cell_type": "markdown",
   "metadata": {},
   "source": [
    "### list can store multiple item at the same time, and also maintain order at the same time."
   ]
  },
  {
   "cell_type": "code",
   "execution_count": null,
   "metadata": {},
   "outputs": [],
   "source": [
    "### array can store data of similar type but list can store data of multiple type.list is hetrogenous and array is homogenous.indexing starts from 0 to n-1.\n",
    "create a list\n",
    "change and acess the list\n",
    "slicing of a list"
   ]
  },
  {
   "cell_type": "markdown",
   "metadata": {},
   "source": [
    "### assignments"
   ]
  },
  {
   "cell_type": "markdown",
   "metadata": {},
   "source": [
    "### addition of element of the list"
   ]
  },
  {
   "cell_type": "code",
   "execution_count": 1,
   "metadata": {},
   "outputs": [
    {
     "name": "stdout",
     "output_type": "stream",
     "text": [
      "4\n",
      "1 2 3 4\n",
      "10\n"
     ]
    }
   ],
   "source": [
    "n=int(input())\n",
    "li=[int(x) for x in input().split()]\n",
    "initial=0\n",
    "for i in range(len(li)):\n",
    "    sum=li[i]+initial\n",
    "    initial=sum\n",
    "print(sum)"
   ]
  },
  {
   "cell_type": "markdown",
   "metadata": {},
   "source": [
    "### linear search"
   ]
  },
  {
   "cell_type": "code",
   "execution_count": 3,
   "metadata": {},
   "outputs": [
    {
     "name": "stdout",
     "output_type": "stream",
     "text": [
      "5\n",
      "1 2 3 4 5\n",
      "6\n",
      "-1\n"
     ]
    }
   ],
   "source": [
    "### check the item in the list , if found then print the index number, else print -1.\n",
    "\n",
    "n=int(input())\n",
    "li=[int(x) for x in input().split()]\n",
    "ele=int(input())\n",
    "flag=False\n",
    "for i in range(len(li)):   ### i is the index number.\n",
    "    if li[i]==ele:\n",
    "        print(i) \n",
    "        flag=True\n",
    "        break\n",
    "if not(flag):\n",
    "    print(-1)"
   ]
  },
  {
   "cell_type": "code",
   "execution_count": 8,
   "metadata": {},
   "outputs": [
    {
     "name": "stdout",
     "output_type": "stream",
     "text": [
      "2\n",
      "1 2 3 4 5\n",
      "1\n"
     ]
    }
   ],
   "source": [
    "### my method\n",
    "\n",
    "ele=int(input())\n",
    "li=[int(x) for x in input().split()]\n",
    "for i in li:\n",
    "    if i==ele:\n",
    "        print(li.index(i))\n",
    "        break\n",
    "else:\n",
    "    print(\"-1\")\n",
    "\n"
   ]
  },
  {
   "cell_type": "markdown",
   "metadata": {},
   "source": [
    "### linear search through funtion"
   ]
  },
  {
   "cell_type": "code",
   "execution_count": 10,
   "metadata": {},
   "outputs": [
    {
     "name": "stdout",
     "output_type": "stream",
     "text": [
      "5\n",
      "1 2 3 4 5\n",
      "10\n"
     ]
    },
    {
     "data": {
      "text/plain": [
       "-1"
      ]
     },
     "execution_count": 10,
     "metadata": {},
     "output_type": "execute_result"
    }
   ],
   "source": [
    "def linear_search(li,ele):\n",
    "    for i in range(len(li)):\n",
    "        if li[i]==ele:\n",
    "            return i\n",
    "    return -1\n",
    "n=int(input())\n",
    "li=[int(x) for x in input().split()]\n",
    "ele=int(input())\n",
    "index=linear_search(li,ele)\n",
    "index"
   ]
  },
  {
   "cell_type": "code",
   "execution_count": 9,
   "metadata": {},
   "outputs": [
    {
     "name": "stdout",
     "output_type": "stream",
     "text": [
      "10\n",
      "1 2 3 4 5\n"
     ]
    },
    {
     "data": {
      "text/plain": [
       "-1"
      ]
     },
     "execution_count": 9,
     "metadata": {},
     "output_type": "execute_result"
    }
   ],
   "source": [
    "### my method.\n",
    "\n",
    "def linearsearch(n,li):\n",
    "    for i in li:\n",
    "        if i==n:\n",
    "            return li.index(i)\n",
    "            break\n",
    "    return -1\n",
    "\n",
    "n=int(input())\n",
    "li=[int(x) for x in input().split()]\n",
    "lin_search=linearsearch(n,li)\n",
    "lin_search"
   ]
  },
  {
   "cell_type": "markdown",
   "metadata": {},
   "source": [
    "### test"
   ]
  },
  {
   "cell_type": "code",
   "execution_count": 10,
   "metadata": {},
   "outputs": [
    {
     "name": "stdout",
     "output_type": "stream",
     "text": [
      "3\n",
      "5\n"
     ]
    }
   ],
   "source": [
    "def increment(a):\n",
    "    a=a+2\n",
    "    return a\n",
    "a=int(input())\n",
    "k=increment(a)\n",
    "print(k)"
   ]
  },
  {
   "cell_type": "code",
   "execution_count": 11,
   "metadata": {},
   "outputs": [
    {
     "name": "stdout",
     "output_type": "stream",
     "text": [
      "[1, 4, 3, 4, 5]\n"
     ]
    }
   ],
   "source": [
    "def change(li):\n",
    "    li[1] = li[1] + 2\n",
    "    li = [3,3,3,4,5]\n",
    "li = [1,2,3,4,5]\n",
    "change(li)\n",
    "print(li)"
   ]
  },
  {
   "cell_type": "code",
   "execution_count": 12,
   "metadata": {},
   "outputs": [
    {
     "name": "stdout",
     "output_type": "stream",
     "text": [
      "[1, 4, 3, 4, 5]\n"
     ]
    }
   ],
   "source": [
    "def change(li):\n",
    "    li[1] = li[1] + 2\n",
    "li = [1,2,3,4,5]\n",
    "change(li)\n",
    "print(li)"
   ]
  },
  {
   "cell_type": "markdown",
   "metadata": {},
   "source": [
    "### assignment"
   ]
  },
  {
   "cell_type": "markdown",
   "metadata": {},
   "source": [
    "###  method 1.  reversing a list"
   ]
  },
  {
   "cell_type": "code",
   "execution_count": 2,
   "metadata": {},
   "outputs": [
    {
     "name": "stdout",
     "output_type": "stream",
     "text": [
      "5\n",
      "1 2 3 4 5\n",
      "[5, 4, 3, 2, 1]\n"
     ]
    }
   ],
   "source": [
    "def reverse_li(li):\n",
    "    length=len(li)\n",
    "    for i in range(length//2):\n",
    "        li[i],li[length-i-1]=li[length-i-1],li[i]\n",
    "n=int(input())\n",
    "li=[int(x) for x in input().split()]\n",
    "reverse_li(li)\n",
    "print(li)"
   ]
  },
  {
   "cell_type": "markdown",
   "metadata": {},
   "source": [
    "### method 2.  reversing a list"
   ]
  },
  {
   "cell_type": "code",
   "execution_count": 14,
   "metadata": {},
   "outputs": [
    {
     "name": "stdout",
     "output_type": "stream",
     "text": [
      "6\n",
      "1 2 3 4 5 6\n",
      "[6, 5, 4, 3, 2, 1]\n"
     ]
    }
   ],
   "source": [
    "def reverse_li(li):\n",
    "    length=len(li)\n",
    "    for i in range(length//2):\n",
    "        li[i],li[-i-1]=li[-i-1],li[i]\n",
    "n=int(input())\n",
    "li=[int(x) for x in input().split()]\n",
    "reverse_li(li)\n",
    "print(li)"
   ]
  },
  {
   "cell_type": "markdown",
   "metadata": {},
   "source": [
    "### method 3.  reversing a list"
   ]
  },
  {
   "cell_type": "code",
   "execution_count": 25,
   "metadata": {},
   "outputs": [
    {
     "name": "stdout",
     "output_type": "stream",
     "text": [
      "6 \n",
      "1 2 3 4 5 6\n",
      "[6, 5, 4, 3, 2, 1]\n"
     ]
    }
   ],
   "source": [
    "n=int(input())\n",
    "li=[int(x) for x in input().split()]\n",
    "li=li[ : :-1]\n",
    "print(li)"
   ]
  },
  {
   "cell_type": "markdown",
   "metadata": {},
   "source": [
    "### swap alternate"
   ]
  },
  {
   "cell_type": "code",
   "execution_count": 1,
   "metadata": {},
   "outputs": [
    {
     "name": "stdout",
     "output_type": "stream",
     "text": [
      "5\n",
      "1 2 3 4 5\n",
      "2 1 4 3 5 "
     ]
    }
   ],
   "source": [
    "N=int(input())\n",
    "li=[int(x) for x in input().split()]\n",
    "length=len(li)\n",
    "for i in range(0,length-1,2):\n",
    "        li[i],li[i+1]=li[i+1],li[i]\n",
    "for k in range(len(li)):\n",
    "    print(li[k],\"\",end=\"\")"
   ]
  },
  {
   "cell_type": "code",
   "execution_count": 3,
   "metadata": {},
   "outputs": [
    {
     "name": "stdout",
     "output_type": "stream",
     "text": [
      "5\n",
      "1 2 3 4 5\n",
      "2 1 4 3 5\n"
     ]
    }
   ],
   "source": [
    "def swap_alt(li):\n",
    "    length=len(li)\n",
    "    for i in range(0,length-1,2):\n",
    "        if(li[i+1]):\n",
    "            li[i],li[i+1]=li[i+1],li[i]\n",
    "    return li\n",
    "N=int(input())\n",
    "li=[int(x) for x in input().split()]\n",
    "k=swap_alt(li)\n",
    "print(*k)"
   ]
  },
  {
   "cell_type": "code",
   "execution_count": 34,
   "metadata": {},
   "outputs": [
    {
     "name": "stdout",
     "output_type": "stream",
     "text": [
      "6\n",
      "1 2 3 4 5 6\n",
      "2 1 4 3 6 5 "
     ]
    }
   ],
   "source": [
    "n = int(input())\n",
    "if n==0:\n",
    "    pass\n",
    "else:\n",
    "    li=[int(x) for x in input().split()]\n",
    "    for i in range(0,n-1,2):\n",
    "        li[i],li[i+1]=li[i+1],li[i]\n",
    "    for k in range(n):\n",
    "        print(li[k],end=\" \")\n",
    "    \n",
    "    "
   ]
  },
  {
   "cell_type": "markdown",
   "metadata": {},
   "source": [
    "### find unique"
   ]
  },
  {
   "cell_type": "code",
   "execution_count": 5,
   "metadata": {},
   "outputs": [
    {
     "name": "stdout",
     "output_type": "stream",
     "text": [
      "7\n",
      "1 2 2 4 4 5 5\n",
      "1\n"
     ]
    }
   ],
   "source": [
    "N=int(input())\n",
    "li=[int(x) for x in input().split()]\n",
    "n=sum(li)\n",
    "k=2*(sum(list(set(li))))\n",
    "print(k-n)"
   ]
  },
  {
   "cell_type": "markdown",
   "metadata": {},
   "source": [
    "### find duplicate"
   ]
  },
  {
   "cell_type": "code",
   "execution_count": 2,
   "metadata": {},
   "outputs": [
    {
     "name": "stdout",
     "output_type": "stream",
     "text": [
      "5\n",
      "1 2 3 2 4\n",
      "2\n"
     ]
    }
   ],
   "source": [
    "N=int(input())\n",
    "ele=[int(x) for x in input().split()]\n",
    "k=sum(ele)\n",
    "m=sum(list(set(ele)))\n",
    "print(k-m)"
   ]
  },
  {
   "cell_type": "markdown",
   "metadata": {},
   "source": [
    "### array intersection"
   ]
  },
  {
   "cell_type": "code",
   "execution_count": 63,
   "metadata": {},
   "outputs": [
    {
     "name": "stdout",
     "output_type": "stream",
     "text": [
      "2\n",
      "1\n",
      "2\n"
     ]
    }
   ],
   "source": [
    "#N=int(input())\n",
    "#ARR1=[int(x) for x in input().split()]\n",
    "#M=int(input())\n",
    "#ARR2=[int(x) for x in input().split()]\n",
    "N=4\n",
    "ARR1=[2,6,1,2]\n",
    "M=5\n",
    "ARR2=[1,2,3,4,2]\n",
    "for i in range(len(ARR1)):\n",
    "    for j in range(len(ARR2)):\n",
    "        if ARR1[i]==ARR2[j]:\n",
    "            print(ARR1[i])\n",
    "            ARR2[j]=-100\n",
    "            break\n",
    "            \n",
    "        "
   ]
  },
  {
   "cell_type": "markdown",
   "metadata": {},
   "source": [
    "### pair sum"
   ]
  },
  {
   "cell_type": "code",
   "execution_count": 6,
   "metadata": {},
   "outputs": [
    {
     "name": "stdout",
     "output_type": "stream",
     "text": [
      "9\n",
      "1 3 6 2 5 4 3 2 4\n",
      "7\n",
      "1 6\n",
      "3 4\n",
      "3 4\n",
      "2 5\n",
      "2 5\n",
      "3 4\n",
      "3 4\n"
     ]
    }
   ],
   "source": [
    "N=int(input())\n",
    "ARR=[int(x) for x in input().split()]\n",
    "X=int(input())\n",
    "for i in range(len(ARR)):\n",
    "    for j in range(i+1,len(ARR)):\n",
    "        if ARR[i]+ARR[j]==X:\n",
    "            if ARR[i]>ARR[j]:\n",
    "                print(ARR[j],ARR[i])\n",
    "            else:\n",
    "                print(ARR[i],ARR[j])\n",
    "        else:\n",
    "            continue"
   ]
  },
  {
   "cell_type": "markdown",
   "metadata": {},
   "source": [
    "### triplet sum"
   ]
  },
  {
   "cell_type": "code",
   "execution_count": 3,
   "metadata": {},
   "outputs": [
    {
     "name": "stdout",
     "output_type": "stream",
     "text": [
      "9\n",
      "1 3 6 2 5 4 3 2 4\n",
      "7\n",
      "1 3 3\n",
      "1 2 4\n",
      "1 2 4\n",
      "1 2 4\n",
      "1 2 4\n",
      "2 2 3\n",
      "2 2 3\n"
     ]
    }
   ],
   "source": [
    "### for k can i start the loop from i+2, i thnk j+1 and i+2 give the same ansr but actully its giving wrong ansr.\n",
    "N=int(input())\n",
    "ARR=[int(x) for x in input().split()]\n",
    "X=int(input())\n",
    "for i in range(len(ARR)):\n",
    "    for j in range(i+1,len(ARR)):\n",
    "        for k in range(j+1,len(ARR)):\n",
    "            if ARR[i]+ARR[j]+ARR[k]==X:\n",
    "                k=[ARR[i],ARR[j],ARR[k]]\n",
    "                k.sort()\n",
    "                print(*k)###\"*k\" will remove the brackets and commas, and put spaces between them.\n",
    "            else:\n",
    "                continue"
   ]
  },
  {
   "cell_type": "code",
   "execution_count": 16,
   "metadata": {},
   "outputs": [
    {
     "name": "stdout",
     "output_type": "stream",
     "text": [
      "[1, 2, 3, 4, 5, 6, 7]\n",
      "1 2 3 4 5 6 7\n"
     ]
    }
   ],
   "source": [
    "### must go through.\n",
    "k=[1,2,3,4,5,6,7]\n",
    "print(k)\n",
    "### to remove comma and bracket.\n",
    "print(*k)\n",
    "''' *k is same as \n",
    "for x in li:\n",
    "   print(x,end=\"\")\n",
    "'''           "
   ]
  },
  {
   "cell_type": "markdown",
   "metadata": {},
   "source": [
    "### sort 01"
   ]
  },
  {
   "cell_type": "code",
   "execution_count": 14,
   "metadata": {},
   "outputs": [
    {
     "name": "stdout",
     "output_type": "stream",
     "text": [
      "8\n",
      "1 0 1 1 1 0 0 1\n",
      "0 0 0 1 1 1 1 1 "
     ]
    }
   ],
   "source": [
    "N=int(input())\n",
    "li=[int(x) for x in input().split()]\n",
    "for i in range(len(li)):\n",
    "    if li[i]==1:\n",
    "        for j in range(len(li)-1,-1,-1):\n",
    "            if i<j:\n",
    "                if li[j]==0:\n",
    "                    li[i],li[j]=li[j],li[i]\n",
    "                    break\n",
    "for k in range(len(li)):\n",
    "    print(li[k],\"\",end=\"\")\n",
    "\n",
    "    \n",
    "        \n",
    "    "
   ]
  },
  {
   "cell_type": "code",
   "execution_count": 8,
   "metadata": {},
   "outputs": [
    {
     "name": "stdout",
     "output_type": "stream",
     "text": [
      "8\n",
      "1 0 1 1 1 0 0 1\n",
      "0 0 0 1 1 1 1 1 "
     ]
    }
   ],
   "source": [
    "N=int(input())\n",
    "A=[int(x) for x in input().split()]\n",
    "# accha see i will keep track of end index and starting index\n",
    "# or you can say that we can take track of pos of 0 and pos of 1\n",
    "i=0 # start\n",
    "j=len(A)-1 # end \n",
    "while i<=j: # we eill keep looping this till this condition becomes false\n",
    "    # now see carefully\n",
    "    if A[i]==0: # that is there is 0 in starting\n",
    "        # its desired to have 0 at starting so we will just go ahead as\n",
    "        i+=1\n",
    "    elif A[j]==1: # that measn there is 1 at the end\n",
    "        # again this is desired to have 1 at end so we will go behind as\n",
    "        j-=1\n",
    "    else: # means 1 at starting and 0 at end\n",
    "        # this is not desired so we will just swap them \n",
    "        # in order to get 0 at start and 1 at end as\n",
    "        A[i],A[j]=A[j],A[i] # swapping 0 and 1\n",
    "        i+=1 # after having 0 at this position go ahead in i\n",
    "        j-=1 # after having 1 at this position go behind in j\n",
    "        # thats it..see here we only used 1 loop so time will get reduced\n",
    "for k in range(len(A)):\n",
    "    print(A[k],\"\",end=\"\")\n"
   ]
  },
  {
   "cell_type": "code",
   "execution_count": 53,
   "metadata": {},
   "outputs": [
    {
     "name": "stdout",
     "output_type": "stream",
     "text": [
      "1\n",
      "0\n",
      "1\n",
      "0\n",
      "1\n",
      "1\n",
      "0\n"
     ]
    }
   ],
   "source": [
    "li=[0,1,1,0,1,0,1]\n",
    "for j in range(len(li)-1,-1,-1):\n",
    "    print(li[j])\n"
   ]
  },
  {
   "cell_type": "markdown",
   "metadata": {},
   "source": [
    "### binary search"
   ]
  },
  {
   "cell_type": "code",
   "execution_count": 3,
   "metadata": {},
   "outputs": [
    {
     "name": "stdout",
     "output_type": "stream",
     "text": [
      "8\n"
     ]
    }
   ],
   "source": [
    "### in binary search the list should be sorted and if the element is found then return the index number else return -1.\n",
    "\n",
    "\n",
    "def binarysearch(li,ele):\n",
    "    start=0\n",
    "    end=len(li)-1\n",
    "    while start<=end:\n",
    "        mid=(start+end)//2\n",
    "        if li[mid]==ele:\n",
    "            return mid\n",
    "        elif li[mid]<ele:\n",
    "            start=mid+1\n",
    "        else:\n",
    "            end=end-1\n",
    "    return -1\n",
    "li=[1,3,8,9,11,13,70,89,98]\n",
    "index=binarysearch(li,98)  \n",
    "print(index)"
   ]
  },
  {
   "cell_type": "code",
   "execution_count": null,
   "metadata": {},
   "outputs": [],
   "source": [
    "\n",
    "            "
   ]
  }
 ],
 "metadata": {
  "kernelspec": {
   "display_name": "Python 3",
   "language": "python",
   "name": "python3"
  },
  "language_info": {
   "codemirror_mode": {
    "name": "ipython",
    "version": 3
   },
   "file_extension": ".py",
   "mimetype": "text/x-python",
   "name": "python",
   "nbconvert_exporter": "python",
   "pygments_lexer": "ipython3",
   "version": "3.7.4"
  }
 },
 "nbformat": 4,
 "nbformat_minor": 4
}
