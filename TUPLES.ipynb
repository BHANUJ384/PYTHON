{
  "nbformat": 4,
  "nbformat_minor": 0,
  "metadata": {
    "kernelspec": {
      "display_name": "Python 3",
      "language": "python",
      "name": "python3"
    },
    "language_info": {
      "codemirror_mode": {
        "name": "ipython",
        "version": 3
      },
      "file_extension": ".py",
      "mimetype": "text/x-python",
      "name": "python",
      "nbconvert_exporter": "python",
      "pygments_lexer": "ipython3",
      "version": "3.6.1"
    },
    "colab": {
      "name": "2.2#2.3.ipynb",
      "provenance": []
    }
  },
  "cells": [
    {
      "cell_type": "markdown",
      "metadata": {
        "id": "3jPl34ol7vk5"
      },
      "source": [
        "# Tuples"
      ]
    },
    {
      "cell_type": "markdown",
      "metadata": {
        "id": "ln3HklJT7vk-"
      },
      "source": [
        "-> A tuple is similar to list\n",
        "\n",
        "-> The diffence between the two is that we can't change the elements of tuple once it is assigned whereas in the list, elements can be changed"
      ]
    },
    {
      "cell_type": "markdown",
      "metadata": {
        "id": "LWVmGb-T7vk_"
      },
      "source": [
        "# Tuple creation"
      ]
    },
    {
      "cell_type": "code",
      "metadata": {
        "id": "lwm0V_cg7vlA",
        "outputId": "8aca1330-23a4-4d3b-e0dd-061a695becc5"
      },
      "source": [
        "#empty tuple\n",
        "t = ()\n",
        "\n",
        "#tuple having integers\n",
        "t = (1, 2, 3)\n",
        "print(t)\n",
        "\n",
        "#tuple with mixed datatypes\n",
        "t = (1, 'raju', 28, 'abc')\n",
        "print(t)\n",
        "\n",
        "#nested tuple\n",
        "t = (1, (2, 3, 4), [1, 'raju', 28, 'abc'])\n",
        "print(t)"
      ],
      "execution_count": null,
      "outputs": [
        {
          "output_type": "stream",
          "text": [
            "(1, 2, 3)\n",
            "(1, 'raju', 28, 'abc')\n",
            "(1, (2, 3, 4), [1, 'raju', 28, 'abc'])\n"
          ],
          "name": "stdout"
        }
      ]
    },
    {
      "cell_type": "code",
      "metadata": {
        "id": "jedGkVQh7vlE",
        "outputId": "5b2fbfb8-5f4f-48ab-c3b3-1a92dcb3c742"
      },
      "source": [
        "#only parenthesis is not enough\n",
        "t = ('satish')\n",
        "type(t)"
      ],
      "execution_count": null,
      "outputs": [
        {
          "output_type": "execute_result",
          "data": {
            "text/plain": [
              "str"
            ]
          },
          "metadata": {
            "tags": []
          },
          "execution_count": 3
        }
      ]
    },
    {
      "cell_type": "code",
      "metadata": {
        "id": "1wvFXKnM7vlF",
        "outputId": "ba44aceb-ae42-4dc0-9515-363bc0145128"
      },
      "source": [
        "#need a comma at the end\n",
        "t = ('satish',)\n",
        "type(t)"
      ],
      "execution_count": null,
      "outputs": [
        {
          "output_type": "execute_result",
          "data": {
            "text/plain": [
              "tuple"
            ]
          },
          "metadata": {
            "tags": []
          },
          "execution_count": 4
        }
      ]
    },
    {
      "cell_type": "code",
      "metadata": {
        "id": "qMXYORpS7vlG",
        "outputId": "34d7686f-65be-4b40-a819-d1e969ef9010"
      },
      "source": [
        "#parenthesis is optional\n",
        "t = \"satish\", \n",
        "print(type(t))\n",
        "\n",
        "print(t)"
      ],
      "execution_count": null,
      "outputs": [
        {
          "output_type": "stream",
          "text": [
            "<class 'tuple'>\n",
            "('satish',)\n"
          ],
          "name": "stdout"
        }
      ]
    },
    {
      "cell_type": "markdown",
      "metadata": {
        "id": "VCGQhRfa7vlH"
      },
      "source": [
        "# Accessing Elements in Tuple"
      ]
    },
    {
      "cell_type": "code",
      "metadata": {
        "id": "5G7xOh0D7vlH",
        "outputId": "a3b481e9-55ef-49b4-be98-dba48f22d731"
      },
      "source": [
        "t = ('satish', 'murali', 'naveen', 'srinu', 'brahma')\n",
        "\n",
        "print(t[1])"
      ],
      "execution_count": null,
      "outputs": [
        {
          "output_type": "stream",
          "text": [
            "murali\n"
          ],
          "name": "stdout"
        }
      ]
    },
    {
      "cell_type": "code",
      "metadata": {
        "id": "qAUj5xdn7vlI",
        "outputId": "8c8d933d-b340-4fca-c2b0-322aca017bfa"
      },
      "source": [
        "#negative index\n",
        "print(t[-1]) #print last element in a tuple"
      ],
      "execution_count": null,
      "outputs": [
        {
          "output_type": "stream",
          "text": [
            "brahma\n"
          ],
          "name": "stdout"
        }
      ]
    },
    {
      "cell_type": "code",
      "metadata": {
        "id": "cEjHe_ST7vlJ",
        "outputId": "3374d8ae-f1cc-42ae-f4bd-4694e93a1416"
      },
      "source": [
        "#nested tuple\n",
        "t = ('ABC', ('satish', 'naveen', 'srinu'))\n",
        "\n",
        "print(t[1])"
      ],
      "execution_count": null,
      "outputs": [
        {
          "output_type": "stream",
          "text": [
            "('satish', 'naveen', 'srinu')\n"
          ],
          "name": "stdout"
        }
      ]
    },
    {
      "cell_type": "code",
      "metadata": {
        "id": "P1by22ab7vlK",
        "outputId": "60733a33-0640-446c-cb3b-e63ae470e7da"
      },
      "source": [
        "print(t[1][2])"
      ],
      "execution_count": null,
      "outputs": [
        {
          "output_type": "stream",
          "text": [
            "srinu\n"
          ],
          "name": "stdout"
        }
      ]
    },
    {
      "cell_type": "code",
      "metadata": {
        "id": "njaZaQ387vlK",
        "outputId": "7924e9c0-2f9e-4afe-ecd1-31e99166600f"
      },
      "source": [
        "#Slicing\n",
        "t = (1, 2, 3, 4, 5, 6)\n",
        "\n",
        "print(t[1:4])\n",
        "\n",
        "#print elements from starting to 2nd last elements\n",
        "print(t[:-2])\n",
        "\n",
        "#print elements from starting to end\n",
        "print(t[:])"
      ],
      "execution_count": null,
      "outputs": [
        {
          "output_type": "stream",
          "text": [
            "(2, 3, 4)\n",
            "(1, 2, 3, 4)\n",
            "(1, 2, 3, 4, 5, 6)\n"
          ],
          "name": "stdout"
        }
      ]
    },
    {
      "cell_type": "markdown",
      "metadata": {
        "id": "kgV_lxFq7vlL"
      },
      "source": [
        "# Changing a Tuple"
      ]
    },
    {
      "cell_type": "markdown",
      "metadata": {
        "id": "gl7qNBo87vlL"
      },
      "source": [
        "#unlike lists, tuples are immutable\n",
        "#This means that elements of a tuple cannot be changed once it has been assigned. But, if the element is itself a mutable datatype like list, its nested items can be changed."
      ]
    },
    {
      "cell_type": "code",
      "metadata": {
        "id": "HxdpVegC7vlM",
        "outputId": "df36155d-9d19-41e6-dcba-782acd74c4c7"
      },
      "source": [
        "#creating tuple\n",
        "t = (1, 2, 3, 4, [5, 6, 7])\n",
        "\n",
        "t[2] = 'x' #will get TypeError"
      ],
      "execution_count": null,
      "outputs": [
        {
          "output_type": "error",
          "ename": "TypeError",
          "evalue": "'tuple' object does not support item assignment",
          "traceback": [
            "\u001b[0;31m---------------------------------------------------------------------------\u001b[0m",
            "\u001b[0;31mTypeError\u001b[0m                                 Traceback (most recent call last)",
            "\u001b[0;32m<ipython-input-3-9f4cbf6ee0de>\u001b[0m in \u001b[0;36m<module>\u001b[0;34m()\u001b[0m\n\u001b[1;32m      2\u001b[0m \u001b[0mt\u001b[0m \u001b[0;34m=\u001b[0m \u001b[0;34m(\u001b[0m\u001b[0;36m1\u001b[0m\u001b[0;34m,\u001b[0m \u001b[0;36m2\u001b[0m\u001b[0;34m,\u001b[0m \u001b[0;36m3\u001b[0m\u001b[0;34m,\u001b[0m \u001b[0;36m4\u001b[0m\u001b[0;34m,\u001b[0m \u001b[0;34m[\u001b[0m\u001b[0;36m5\u001b[0m\u001b[0;34m,\u001b[0m \u001b[0;36m6\u001b[0m\u001b[0;34m,\u001b[0m \u001b[0;36m7\u001b[0m\u001b[0;34m]\u001b[0m\u001b[0;34m)\u001b[0m\u001b[0;34m\u001b[0m\u001b[0m\n\u001b[1;32m      3\u001b[0m \u001b[0;34m\u001b[0m\u001b[0m\n\u001b[0;32m----> 4\u001b[0;31m \u001b[0mt\u001b[0m\u001b[0;34m[\u001b[0m\u001b[0;36m2\u001b[0m\u001b[0;34m]\u001b[0m \u001b[0;34m=\u001b[0m \u001b[0;34m'x'\u001b[0m \u001b[0;31m#will get TypeError\u001b[0m\u001b[0;34m\u001b[0m\u001b[0m\n\u001b[0m",
            "\u001b[0;31mTypeError\u001b[0m: 'tuple' object does not support item assignment"
          ]
        }
      ]
    },
    {
      "cell_type": "code",
      "metadata": {
        "id": "YxFf14eS7vlN",
        "outputId": "016c1a9e-5de8-423c-db8e-a84cb938b6b2"
      },
      "source": [
        "t[4][1] = 'satish'\n",
        "print(t)"
      ],
      "execution_count": null,
      "outputs": [
        {
          "output_type": "stream",
          "text": [
            "(1, 2, 3, 4, [5, 'satish', 7])\n"
          ],
          "name": "stdout"
        }
      ]
    },
    {
      "cell_type": "code",
      "metadata": {
        "id": "pbslNCWc7vlN",
        "outputId": "6b1470ef-99c7-4d0b-f93f-4eeea5a8d3f3"
      },
      "source": [
        "#concatinating tuples\n",
        "\n",
        "t = (1, 2, 3) + (4, 5, 6)\n",
        "print(t)"
      ],
      "execution_count": null,
      "outputs": [
        {
          "output_type": "stream",
          "text": [
            "(1, 2, 3, 4, 5, 6)\n"
          ],
          "name": "stdout"
        }
      ]
    },
    {
      "cell_type": "code",
      "metadata": {
        "id": "Ao5MYykE7vlO",
        "outputId": "8f27509e-edab-4a59-cc06-d6d29fe03a7e"
      },
      "source": [
        "#repeat the elements in a tuple for a given number of times using the * operator.\n",
        "t = (('satish', ) * 4)\n",
        "print(t)"
      ],
      "execution_count": null,
      "outputs": [
        {
          "output_type": "stream",
          "text": [
            "('satish', 'satish', 'satish', 'satish')\n"
          ],
          "name": "stdout"
        }
      ]
    },
    {
      "cell_type": "markdown",
      "metadata": {
        "id": "aziEjC967vlO"
      },
      "source": [
        "# Tuple Deletion"
      ]
    },
    {
      "cell_type": "code",
      "metadata": {
        "collapsed": true,
        "id": "2V3f3k3G7vlP"
      },
      "source": [
        "#we cannot change the elements in a tuple. \n",
        "# That also means we cannot delete or remove items from a tuple.\n",
        "\n",
        "#delete entire tuple using del keyword\n",
        "t = (1, 2, 3, 4, 5, 6)\n",
        "\n",
        "#delete entire tuple\n",
        "del t\n",
        "\n"
      ],
      "execution_count": null,
      "outputs": []
    },
    {
      "cell_type": "markdown",
      "metadata": {
        "id": "-TBLxe6D7vlP"
      },
      "source": [
        "# Tuple Count"
      ]
    },
    {
      "cell_type": "code",
      "metadata": {
        "id": "FdbefpmL7vlP",
        "outputId": "98070b23-a5a4-4679-ccc6-d14db6d90cb6"
      },
      "source": [
        "t = (1, 2, 3, 1, 3, 3, 4, 1)\n",
        "\n",
        "#get the frequency of particular element appears in a tuple\n",
        "t.count(1)"
      ],
      "execution_count": null,
      "outputs": [
        {
          "output_type": "execute_result",
          "data": {
            "text/plain": [
              "3"
            ]
          },
          "metadata": {
            "tags": []
          },
          "execution_count": 19
        }
      ]
    },
    {
      "cell_type": "markdown",
      "metadata": {
        "id": "z07jnDDA7vlQ"
      },
      "source": [
        "# Tuple Index"
      ]
    },
    {
      "cell_type": "code",
      "metadata": {
        "id": "8p1DMMnF7vlQ",
        "outputId": "a570ce27-3d7b-443b-afdb-c9f9b19cf398"
      },
      "source": [
        "t = (1, 2, 3, 1, 3, 3, 4, 1)\n",
        "\n",
        "print(t.index(3)) #return index of the first element is equal to 3\n",
        "\n",
        "#print index of the 1\n",
        "\n"
      ],
      "execution_count": null,
      "outputs": [
        {
          "output_type": "stream",
          "text": [
            "2\n"
          ],
          "name": "stdout"
        }
      ]
    },
    {
      "cell_type": "markdown",
      "metadata": {
        "id": "vWON-rV07vlQ"
      },
      "source": [
        "# Tuple Memebership "
      ]
    },
    {
      "cell_type": "code",
      "metadata": {
        "id": "z-TRgx4H7vlR",
        "outputId": "14bd81d4-ba89-41dd-ac91-f9a1c294b049"
      },
      "source": [
        "#test if an item exists in a tuple or not, using the keyword in.\n",
        "t = (1, 2, 3, 4, 5, 6)\n",
        "\n",
        "print(1 in t)"
      ],
      "execution_count": null,
      "outputs": [
        {
          "output_type": "stream",
          "text": [
            "True\n"
          ],
          "name": "stdout"
        }
      ]
    },
    {
      "cell_type": "code",
      "metadata": {
        "id": "kGZ8BJHw7vlR",
        "outputId": "9a22e454-7caf-4986-a32a-510a21c012f3"
      },
      "source": [
        "print(7 in t)"
      ],
      "execution_count": null,
      "outputs": [
        {
          "output_type": "stream",
          "text": [
            "False\n"
          ],
          "name": "stdout"
        }
      ]
    },
    {
      "cell_type": "markdown",
      "metadata": {
        "id": "8bIhAUcO7vlR"
      },
      "source": [
        "# Built in Functions"
      ]
    },
    {
      "cell_type": "markdown",
      "metadata": {
        "id": "jm8JVwfB7vlS"
      },
      "source": [
        "# Tuple Length"
      ]
    },
    {
      "cell_type": "code",
      "metadata": {
        "id": "JgJQm5EG7vlS",
        "outputId": "b8ebc97d-08dd-4c2e-c1f9-5137ec6f6427"
      },
      "source": [
        "t = (1, 2, 3, 4, 5, 6)\n",
        "print(len(t))"
      ],
      "execution_count": null,
      "outputs": [
        {
          "output_type": "stream",
          "text": [
            "6\n"
          ],
          "name": "stdout"
        }
      ]
    },
    {
      "cell_type": "markdown",
      "metadata": {
        "id": "yQOs2biE7vlS"
      },
      "source": [
        "# Tuple Sort"
      ]
    },
    {
      "cell_type": "code",
      "metadata": {
        "id": "EWLXA6U17vlS",
        "outputId": "47475277-7f69-483c-89a2-95f6b1ef5a45"
      },
      "source": [
        "t = (4, 5, 1, 2, 3)\n",
        "\n",
        "new_t = sorted(t)\n",
        "print(new_t) #Take elements in the tuple and return a new sorted list \n",
        "             #(does not sort the tuple itself)."
      ],
      "execution_count": null,
      "outputs": [
        {
          "output_type": "stream",
          "text": [
            "[1, 2, 3, 4, 5]\n"
          ],
          "name": "stdout"
        }
      ]
    },
    {
      "cell_type": "code",
      "metadata": {
        "id": "smolf1U07vlT",
        "outputId": "ccf6b325-c15f-486d-c0c4-a4b8946f4bb0"
      },
      "source": [
        "#get the largest element in a tuple\n",
        "t = (2, 5, 1, 6, 9)\n",
        "\n",
        "print(max(t))"
      ],
      "execution_count": null,
      "outputs": [
        {
          "output_type": "stream",
          "text": [
            "9\n"
          ],
          "name": "stdout"
        }
      ]
    },
    {
      "cell_type": "code",
      "metadata": {
        "id": "rEjkvdiw7vlT",
        "outputId": "76766552-ba78-43e2-de56-820181215289"
      },
      "source": [
        "#get the smallest element in a tuple\n",
        "print(min(t))"
      ],
      "execution_count": null,
      "outputs": [
        {
          "output_type": "stream",
          "text": [
            "1\n"
          ],
          "name": "stdout"
        }
      ]
    },
    {
      "cell_type": "code",
      "metadata": {
        "id": "PXqE-jF07vlU",
        "outputId": "301b89af-ee5a-479c-91b9-28765a6f4c57"
      },
      "source": [
        "#get sum of elments in the tuple\n",
        "print(sum(t))"
      ],
      "execution_count": null,
      "outputs": [
        {
          "output_type": "stream",
          "text": [
            "23\n"
          ],
          "name": "stdout"
        }
      ]
    }
  ]
}