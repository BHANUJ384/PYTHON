{
 "cells": [
  {
   "cell_type": "markdown",
   "metadata": {},
   "source": [
    "### binary search"
   ]
  },
  {
   "cell_type": "code",
   "execution_count": 19,
   "metadata": {},
   "outputs": [
    {
     "name": "stdout",
     "output_type": "stream",
     "text": [
      "6\n",
      "1 2 3 4 5 6\n",
      "8\n",
      "-1\n"
     ]
    }
   ],
   "source": [
    "### in binary search the list should be sorted and if the element is found then return the index number else return -1.\n",
    "\n",
    "\n",
    "def binarysearch(li,VAL):\n",
    "    start=0\n",
    "    end=len(li)-1\n",
    "    while start<=end:\n",
    "        mid=(start+end)//2\n",
    "        if li[mid]==VAL:\n",
    "            return mid\n",
    "        elif li[mid]<VAL:\n",
    "            start=mid+1\n",
    "        else:\n",
    "            end=end-1\n",
    "    return -1\n",
    "N=int(input())\n",
    "li=[int(x) for x in input().split()]\n",
    "VAL=int(input())\n",
    "index=binarysearch(li,VAL)\n",
    "print(index)"
   ]
  },
  {
   "cell_type": "code",
   "execution_count": 13,
   "metadata": {},
   "outputs": [
    {
     "name": "stdout",
     "output_type": "stream",
     "text": [
      "8\n"
     ]
    }
   ],
   "source": [
    "def binarysea(li,ele):\n",
    "    for i in range(len(li)):\n",
    "        for j in range(len(li),-1,-1):\n",
    "            mid=(i+j)//2\n",
    "            if li[mid]==ele:\n",
    "                return mid\n",
    "            elif li[mid]<ele:\n",
    "                i=mid+1\n",
    "            else:\n",
    "                i=mid-1\n",
    "    return -1\n",
    "li=[1,3,8,9,11,13,70,89,98]\n",
    "index=binarysea(li,98)\n",
    "print(index)\n",
    "                \n",
    "                \n",
    "    "
   ]
  },
  {
   "cell_type": "markdown",
   "metadata": {},
   "source": [
    "### selection sort"
   ]
  },
  {
   "cell_type": "code",
   "execution_count": 1,
   "metadata": {},
   "outputs": [
    {
     "name": "stdout",
     "output_type": "stream",
     "text": [
      "[0, 1, 1, 2, 3, 4, 5, 6]\n"
     ]
    }
   ],
   "source": [
    "def selectionsort(li):\n",
    "    for i in range(len(li)-1):### bkz n and n-1 term are already get arranged.\n",
    "        for j in range(i+1,len(li)):\n",
    "            if li[j]<li[i]:  c \n",
    "                li[i],li[j]=li[j],li[i]\n",
    "li=[3,2,4,5,6,1,1,0]\n",
    "selectionsort(li)\n",
    "print(li)\n",
    "            \n"
   ]
  },
  {
   "cell_type": "markdown",
   "metadata": {},
   "source": [
    "### insertion sort code"
   ]
  },
  {
   "cell_type": "code",
   "execution_count": 2,
   "metadata": {},
   "outputs": [
    {
     "name": "stdout",
     "output_type": "stream",
     "text": [
      "6\n",
      "2 1 4 3 6 5\n",
      "1 2 3 4 5 6\n"
     ]
    }
   ],
   "source": [
    "def insertionsort(arr):\n",
    "    length=len(arr)\n",
    "    for i in range(1,length):\n",
    "        j=i-1\n",
    "        temp=arr[i]\n",
    "        while (j>=0 and arr[j]>temp):\n",
    "            arr[j+1]=arr[j]\n",
    "            j=j-1\n",
    "            arr[j+1]=temp\n",
    "N=int((input()))\n",
    "if N>0:\n",
    "    arr=[int(x) for x in input().split()]\n",
    "    insertionsort(arr)\n",
    "    print(*arr)\n",
    "\n",
    "            "
   ]
  },
  {
   "cell_type": "markdown",
   "metadata": {},
   "source": [
    "### bubble sort"
   ]
  },
  {
   "cell_type": "code",
   "execution_count": 9,
   "metadata": {},
   "outputs": [
    {
     "name": "stdout",
     "output_type": "stream",
     "text": [
      "6\n",
      "2 4 5 7 2 4 \n",
      "2 2 4 4 5 7\n"
     ]
    }
   ],
   "source": [
    "def bubblesort(li):\n",
    "    for i in range(len(li)-1):\n",
    "        for j in range(len(li)-1-i):\n",
    "            if li[j]>li[j+1]:\n",
    "                li[j],li[j+1]=li[j+1],li[j] \n",
    "N=int(input())\n",
    "if N>0:\n",
    "    li=[int(x) for x in input().split()]\n",
    "    bubblesort(li)\n",
    "    print(*li)"
   ]
  },
  {
   "cell_type": "code",
   "execution_count": 12,
   "metadata": {},
   "outputs": [
    {
     "name": "stdout",
     "output_type": "stream",
     "text": [
      "5\n",
      "5 3 4 2 1\n",
      "1 2 3 4 5\n"
     ]
    }
   ],
   "source": [
    "N=int(input())\n",
    "li=[int(x) for x in input().split()]\n",
    "for i in range(len(li)-1):\n",
    "        for j in range(len(li)-1-i):\n",
    "            if li[j]>li[j+1]:\n",
    "                li[j],li[j+1]=li[j+1],li[j]\n",
    "print(*li)"
   ]
  },
  {
   "cell_type": "markdown",
   "metadata": {},
   "source": [
    "### code merge two sorted arrays"
   ]
  },
  {
   "cell_type": "code",
   "execution_count": 8,
   "metadata": {},
   "outputs": [
    {
     "name": "stdout",
     "output_type": "stream",
     "text": [
      "5\n",
      "1 3 5 7 9\n",
      "4\n",
      "2 4 6 8\n",
      "1 2 3 4 5 6 7 8 9\n"
     ]
    }
   ],
   "source": [
    "### time limit exceeded in this code so another method below this is correct\n",
    "\n",
    "def merge2array(li1,li2,li):\n",
    "    for i in range(len(li)-1):\n",
    "        for j in range(len(li)-1-i):\n",
    "            if li[j]>li[j+1]:\n",
    "                li[j],li[j+1]=li[j+1],li[j]\n",
    "M=int(input())\n",
    "li1=[int(x)for x in input().split()]\n",
    "N=int(input())\n",
    "li2=[int(y)for y in input().split()]\n",
    "if M>0 and N>0:\n",
    "    li=li1+li2\n",
    "    merge2array(li1,li2,li)\n",
    "    print(*li)\n"
   ]
  },
  {
   "cell_type": "code",
   "execution_count": null,
   "metadata": {},
   "outputs": [],
   "source": [
    "def mergearray(li1, li2, li, m, n):\n",
    "    i = 0\n",
    "    j = 0\n",
    "    k = 0\n",
    "\n",
    "    while i < m and j < n:\n",
    "        if li1[i] < li2[j]:\n",
    "            li[k] = li1[i]\n",
    "            i += 1\n",
    "            k += 1\n",
    "        else:\n",
    "            li[k] = li2[j]\n",
    "            j += 1\n",
    "            k += 1\n",
    "       \n",
    "    while i < m:\n",
    "        li[k] = li1[i]\n",
    "        i+= 1\n",
    "        k += 1\n",
    "        \n",
    "    while j < n:\n",
    "        li[k] = li2[j]\n",
    "        j+= 1\n",
    "        k += 1\n",
    "\n",
    "M=int(input())\n",
    "li1=[int(x)for x in input().split()]\n",
    "N=int(input())\n",
    "li2=[int(y)for y in input().split()]\n",
    "if M>0 and N>0:\n",
    "    li= (M+N) * [0]\n",
    "    mergearray(li1,li2,li,M,N)\n",
    "    print(*li, end = \"\")\n",
    "    "
   ]
  },
  {
   "cell_type": "markdown",
   "metadata": {},
   "source": [
    "### push zeros to the end"
   ]
  },
  {
   "cell_type": "code",
   "execution_count": 3,
   "metadata": {},
   "outputs": [
    {
     "name": "stdout",
     "output_type": "stream",
     "text": [
      "7\n",
      "2 0 4 1 3 0 28\n",
      "2 4 1 3 28 0 0\n"
     ]
    }
   ],
   "source": [
    "def pushZerosToEnd(arr, n): \n",
    "    count = 0 # Count of non-zero elements \n",
    "      \n",
    "    # Traverse the array. If element  \n",
    "    # encountered is non-zero, then \n",
    "    # replace the element at index \n",
    "    # 'count' with this element \n",
    "    for i in range(n): \n",
    "        if arr[i] != 0: \n",
    "              \n",
    "            # here count is incremented \n",
    "            arr[count] = arr[i] \n",
    "            count+=1\n",
    "      \n",
    "    # Now all non-zero elements have been \n",
    "    # shifted to front and 'count' is set \n",
    "    # as index of first 0. Make all  \n",
    "    # elements 0 from count to end. \n",
    "    while count < n: \n",
    "        arr[count] = 0\n",
    "        count += 1\n",
    "           \n",
    "    \n",
    "N=int(input()) \n",
    "arr=[int(x) for x in input().split()]\n",
    "n = len(arr)\n",
    "pushZerosToEnd(arr, n)\n",
    "print(*arr)\n"
   ]
  },
  {
   "cell_type": "markdown",
   "metadata": {},
   "source": [
    "### rotation of array"
   ]
  },
  {
   "cell_type": "code",
   "execution_count": 6,
   "metadata": {},
   "outputs": [
    {
     "name": "stdout",
     "output_type": "stream",
     "text": [
      "7\n",
      "1 2 3 4 5 6 7\n",
      "2\n",
      " 3  4  5  6  7  1  2 "
     ]
    }
   ],
   "source": [
    "# d elements  \n",
    "# Function to left rotate arr[] of size n by d*/ \n",
    "def leftRotate(arr, d, n): \n",
    "    for i in range(d): \n",
    "        leftRotatebyOne(arr, n) \n",
    "  \n",
    "# Function to left Rotate arr[] of size n by 1*/  \n",
    "def leftRotatebyOne(arr, n): \n",
    "    temp = arr[0] \n",
    "    for i in range(n-1): \n",
    "        arr[i] = arr[i + 1] \n",
    "    arr[n-1] = temp \n",
    "          \n",
    "  \n",
    "# utility function to print an array */ \n",
    "def printArray(arr, n): \n",
    "    for i in range(n): \n",
    "        print (\"% d\"% arr[i], end =\" \") \n",
    "n=int(input())\n",
    "arr = [int(x) for x in input().split()] \n",
    "d=int(input())\n",
    "leftRotate(arr, d, n) \n",
    "printArray(arr, n) \n",
    "  "
   ]
  },
  {
   "cell_type": "markdown",
   "metadata": {},
   "source": [
    "### Second Largest in array\n"
   ]
  },
  {
   "cell_type": "code",
   "execution_count": 5,
   "metadata": {},
   "outputs": [
    {
     "name": "stdout",
     "output_type": "stream",
     "text": [
      "1\n",
      "1\n",
      "-2147483648\n"
     ]
    }
   ],
   "source": [
    "def print2largest(arr,arr_size): \n",
    "  \n",
    "    # There should be atleast \n",
    "        # two elements  \n",
    "    if (arr_size < 2): \n",
    "        pass\n",
    "      \n",
    "  \n",
    "    first = second = -2147483648\n",
    "    for i in range(arr_size): \n",
    "      \n",
    "        # If current element is \n",
    "                # smaller than first \n",
    "        # then update both \n",
    "                # first and second  \n",
    "        if (arr[i] > first): \n",
    "          \n",
    "            second = first \n",
    "            first = arr[i] \n",
    "          \n",
    "  \n",
    "        # If arr[i] is in \n",
    "                # between first and  \n",
    "        # second then update second  \n",
    "        elif (arr[i] > second and arr[i] != first): \n",
    "            second = arr[i] \n",
    "      \n",
    "    if (second == -2147483648): \n",
    "        print(-2147483648) \n",
    "    else: \n",
    "        print(second) \n",
    "n=int(input())\n",
    "arr = [int(x) for x in input().split()] \n",
    "N =len(arr) \n",
    "print2largest(arr, n) "
   ]
  },
  {
   "cell_type": "markdown",
   "metadata": {},
   "source": [
    "### Second Largest in array\n"
   ]
  },
  {
   "cell_type": "code",
   "execution_count": 8,
   "metadata": {},
   "outputs": [
    {
     "name": "stdout",
     "output_type": "stream",
     "text": [
      "5\n",
      "3 6 8 9 10\n"
     ]
    },
    {
     "ename": "UnboundLocalError",
     "evalue": "local variable 'min_index' referenced before assignment",
     "output_type": "error",
     "traceback": [
      "\u001b[1;31m---------------------------------------------------------------------------\u001b[0m",
      "\u001b[1;31mUnboundLocalError\u001b[0m                         Traceback (most recent call last)",
      "\u001b[1;32m<ipython-input-8-92c1a31fd151>\u001b[0m in \u001b[0;36m<module>\u001b[1;34m\u001b[0m\n\u001b[0;32m     15\u001b[0m \u001b[0marr\u001b[0m \u001b[1;33m=\u001b[0m \u001b[1;33m[\u001b[0m\u001b[0mint\u001b[0m\u001b[1;33m(\u001b[0m\u001b[0mx\u001b[0m\u001b[1;33m)\u001b[0m \u001b[1;32mfor\u001b[0m \u001b[0mx\u001b[0m \u001b[1;32min\u001b[0m \u001b[0minput\u001b[0m\u001b[1;33m(\u001b[0m\u001b[1;33m)\u001b[0m\u001b[1;33m.\u001b[0m\u001b[0msplit\u001b[0m\u001b[1;33m(\u001b[0m\u001b[1;33m)\u001b[0m\u001b[1;33m]\u001b[0m\u001b[1;33m\u001b[0m\u001b[1;33m\u001b[0m\u001b[0m\n\u001b[0;32m     16\u001b[0m \u001b[0mN\u001b[0m \u001b[1;33m=\u001b[0m \u001b[0mlen\u001b[0m\u001b[1;33m(\u001b[0m\u001b[0marr\u001b[0m\u001b[1;33m)\u001b[0m\u001b[1;33m\u001b[0m\u001b[1;33m\u001b[0m\u001b[0m\n\u001b[1;32m---> 17\u001b[1;33m \u001b[0mprint\u001b[0m\u001b[1;33m(\u001b[0m\u001b[0mcountRotations\u001b[0m\u001b[1;33m(\u001b[0m\u001b[0marr\u001b[0m\u001b[1;33m,\u001b[0m \u001b[0mn\u001b[0m\u001b[1;33m)\u001b[0m\u001b[1;33m)\u001b[0m\u001b[1;33m\u001b[0m\u001b[1;33m\u001b[0m\u001b[0m\n\u001b[0m",
      "\u001b[1;32m<ipython-input-8-92c1a31fd151>\u001b[0m in \u001b[0;36mcountRotations\u001b[1;34m(arr, n)\u001b[0m\n\u001b[0;32m     11\u001b[0m             \u001b[0mmin_index\u001b[0m \u001b[1;33m=\u001b[0m \u001b[0mi\u001b[0m\u001b[1;33m\u001b[0m\u001b[1;33m\u001b[0m\u001b[0m\n\u001b[0;32m     12\u001b[0m \u001b[1;33m\u001b[0m\u001b[0m\n\u001b[1;32m---> 13\u001b[1;33m     \u001b[1;32mreturn\u001b[0m \u001b[0mmin_index\u001b[0m\u001b[1;33m;\u001b[0m\u001b[1;33m\u001b[0m\u001b[1;33m\u001b[0m\u001b[0m\n\u001b[0m\u001b[0;32m     14\u001b[0m \u001b[0mn\u001b[0m\u001b[1;33m=\u001b[0m\u001b[0mint\u001b[0m\u001b[1;33m(\u001b[0m\u001b[0minput\u001b[0m\u001b[1;33m(\u001b[0m\u001b[1;33m)\u001b[0m\u001b[1;33m)\u001b[0m\u001b[1;33m\u001b[0m\u001b[1;33m\u001b[0m\u001b[0m\n\u001b[0;32m     15\u001b[0m \u001b[0marr\u001b[0m \u001b[1;33m=\u001b[0m \u001b[1;33m[\u001b[0m\u001b[0mint\u001b[0m\u001b[1;33m(\u001b[0m\u001b[0mx\u001b[0m\u001b[1;33m)\u001b[0m \u001b[1;32mfor\u001b[0m \u001b[0mx\u001b[0m \u001b[1;32min\u001b[0m \u001b[0minput\u001b[0m\u001b[1;33m(\u001b[0m\u001b[1;33m)\u001b[0m\u001b[1;33m.\u001b[0m\u001b[0msplit\u001b[0m\u001b[1;33m(\u001b[0m\u001b[1;33m)\u001b[0m\u001b[1;33m]\u001b[0m\u001b[1;33m\u001b[0m\u001b[1;33m\u001b[0m\u001b[0m\n",
      "\u001b[1;31mUnboundLocalError\u001b[0m: local variable 'min_index' referenced before assignment"
     ]
    }
   ],
   "source": [
    "def countRotations(arr, n): \n",
    "  \n",
    "    # We basically find index \n",
    "    # of minimum element \n",
    "    min = arr[0] \n",
    "    for i in range(0, n): \n",
    "      \n",
    "        if (min > arr[i]): \n",
    "          \n",
    "            min = arr[i] \n",
    "            min_index = i \n",
    "          \n",
    "    return min_index; \n",
    "n=int(input())\n",
    "arr = [int(x) for x in input().split()] \n",
    "N = len(arr) \n",
    "print(countRotations(arr, n)) "
   ]
  },
  {
   "cell_type": "markdown",
   "metadata": {},
   "source": [
    "### Sort 0 1 2"
   ]
  },
  {
   "cell_type": "code",
   "execution_count": 11,
   "metadata": {},
   "outputs": [
    {
     "name": "stdout",
     "output_type": "stream",
     "text": [
      "7\n",
      "0 1 2 0 2 0 1\n",
      "0 0 0 1 1 2 2 "
     ]
    }
   ],
   "source": [
    "def printArr(arr, n): \n",
    "    for i in range(n): \n",
    "        print(arr[i],end=\" \") \n",
    "  \n",
    "  \n",
    "# Function to sort the array of 0s, 1s and 2s \n",
    "def sortArr(arr, n): \n",
    "    cnt0 = 0\n",
    "    cnt1 = 0\n",
    "    cnt2 = 0\n",
    "      \n",
    "    # Count the number of 0s, 1s and 2s in the array \n",
    "    for i in range(n): \n",
    "        if arr[i] == 0: \n",
    "            cnt0+=1\n",
    "          \n",
    "        elif arr[i] == 1: \n",
    "            cnt1+=1\n",
    "              \n",
    "        elif arr[i] == 2: \n",
    "            cnt2+=1\n",
    "      \n",
    "    # Update the array \n",
    "    i = 0\n",
    "      \n",
    "    # Store all the 0s in the beginning \n",
    "    while (cnt0 > 0): \n",
    "        arr[i] = 0\n",
    "        i+=1\n",
    "        cnt0-=1\n",
    "      \n",
    "    # Then all the 1s \n",
    "    while (cnt1 > 0): \n",
    "        arr[i] = 1\n",
    "        i+=1\n",
    "        cnt1-=1\n",
    "      \n",
    "    # Finally all the 2s \n",
    "    while (cnt2 > 0): \n",
    "        arr[i] = 2\n",
    "        i+=1\n",
    "        cnt2-=1\n",
    "    printArr(arr, n) \n",
    "      \n",
    "    # Prthe sorted array \n",
    "    \n",
    "N=int(input())\n",
    "arr=[int(x)for x in input().split()]\n",
    "n = len(arr) \n",
    "sortArr(arr, n) "
   ]
  },
  {
   "cell_type": "markdown",
   "metadata": {},
   "source": [
    "### Sum of two arrays\n"
   ]
  },
  {
   "cell_type": "code",
   "execution_count": 6,
   "metadata": {},
   "outputs": [
    {
     "name": "stdout",
     "output_type": "stream",
     "text": [
      "3\n",
      "6 2 4\n",
      "3\n",
      "7 5 6\n",
      "1 3 8 0 "
     ]
    }
   ],
   "source": [
    "###in codezen this code was not working.\n",
    "\n",
    "def calSumUtil( A1, A2 , n , m ): \n",
    "    # array to store sum. \n",
    "    sum = [0] * n \n",
    "    i = n - 1\n",
    "    j = m - 1\n",
    "    k = n - 1\n",
    "      \n",
    "    carry = 0\n",
    "    s = 0\n",
    "      \n",
    "    # Until we reach beginning of array. \n",
    "    # we are comparing only for second array \n",
    "    # because we have already compare the size \n",
    "    # of array in wrapper function. \n",
    "    while j >= 0: \n",
    "  \n",
    "        # find sum of corresponding element \n",
    "        # of both array. \n",
    "        s = A1[i] + A2[j] + carry \n",
    "        sum[k] = (s % 10) \n",
    "          \n",
    "        # Finding carry for next sum. \n",
    "        carry = s // 10\n",
    "          \n",
    "        k-=1\n",
    "        i-=1\n",
    "        j-=1\n",
    "      \n",
    "    # If second array size is less the first \n",
    "    # array size. \n",
    "    while i >= 0: \n",
    "  \n",
    "        # Add carry to first array elements. \n",
    "        s = A1[i] + carry \n",
    "        sum[k] = (s % 10) \n",
    "        carry = s // 10\n",
    "          \n",
    "        i-=1\n",
    "        k-=1\n",
    "      \n",
    "    ans = 0\n",
    "    # If there is carry on adding 0 index elements. \n",
    "    # append 1 to total sum. \n",
    "    if carry: \n",
    "        ans = 10\n",
    "      \n",
    "    # Converting array into number. \n",
    "    for i in range(n): \n",
    "        ans += sum[i] \n",
    "        ans *= 10\n",
    "      \n",
    "    return ans // 10\n",
    "  \n",
    "# Wrapper Function \n",
    "def calSum(A1, A2, n, m ): \n",
    "  \n",
    "    # Making first array which have \n",
    "    # greater number of element \n",
    "    if n >= m: \n",
    "        return calSumUtil(A1,A2,n,m) \n",
    "    else: \n",
    "        return calSumUtil(A2,A1,m,n) \n",
    "n1=int(input())\n",
    "A1= [int(x)for x in input().split()] \n",
    "n2=int(input())\n",
    "A2= [int(y)for y in input().split()] \n",
    "n = len(A1) \n",
    "m = len(A2) \n",
    "a=(calSum(A1, A2, n, m)) \n",
    "b=str(a)\n",
    "for i in range(len(str(b))):\n",
    "    print(b[i],end=\" \")"
   ]
  },
  {
   "cell_type": "code",
   "execution_count": 1,
   "metadata": {},
   "outputs": [
    {
     "name": "stdout",
     "output_type": "stream",
     "text": [
      "3\n",
      "6 2 4\n",
      "3\n",
      "7 5 6\n",
      "1 3 8 0 \n"
     ]
    }
   ],
   "source": [
    "def sumoftwoarrays(in1,in2):\n",
    "    size1=len(in1)\n",
    "    size2=len(in2)\n",
    "    size3=size1 if size1>size2 else size2\n",
    "    size3+=1\n",
    "    output=[0]*size3\n",
    "    carry=0\n",
    "    i1=size1-1\n",
    "    i2=size2-1\n",
    "    i3=size3-1\n",
    "    while(i3>=0):\n",
    "        sum=0\n",
    "        if i1>=0:\n",
    "            sum+=in1[i1]\n",
    "            i1-=1\n",
    "        if i2>=0:\n",
    "            sum+=in2[i2]\n",
    "            i2-=1\n",
    "        sum+=carry\n",
    "        carry=sum//10\n",
    "        output[i3]=sum%10\n",
    "        i3-=1\n",
    "    return output\n",
    "\n",
    "n1=int(input())\n",
    "in1=[int(i)for i in input().split()]\n",
    "n2=int(input())\n",
    "in2=[int(i)for i in input().split()]\n",
    "arr=sumoftwoarrays(in1,in2)\n",
    "for k in arr:\n",
    "    print(k,end=\" \")\n",
    "print()"
   ]
  },
  {
   "cell_type": "code",
   "execution_count": null,
   "metadata": {},
   "outputs": [],
   "source": []
  }
 ],
 "metadata": {
  "kernelspec": {
   "display_name": "Python 3",
   "language": "python",
   "name": "python3"
  },
  "language_info": {
   "codemirror_mode": {
    "name": "ipython",
    "version": 3
   },
   "file_extension": ".py",
   "mimetype": "text/x-python",
   "name": "python",
   "nbconvert_exporter": "python",
   "pygments_lexer": "ipython3",
   "version": "3.7.4"
  }
 },
 "nbformat": 4,
 "nbformat_minor": 4
}
