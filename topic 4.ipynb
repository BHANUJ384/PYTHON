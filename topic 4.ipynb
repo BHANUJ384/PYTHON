{
 "cells": [
  {
   "cell_type": "markdown",
   "metadata": {},
   "source": [
    "### FOR LOOP"
   ]
  },
  {
   "cell_type": "code",
   "execution_count": 3,
   "metadata": {},
   "outputs": [
    {
     "name": "stdout",
     "output_type": "stream",
     "text": [
      "1\n",
      "12\n",
      "3\n",
      "6\n",
      "9\n",
      "12\n"
     ]
    }
   ],
   "source": [
    "### print all the value from a to b which are the multiple of 3.\n",
    "\n",
    "a=int(input())\n",
    "b=int(input())\n",
    "for x in range(a,b+1,1):\n",
    "    if x%3==0:\n",
    "        print(x)"
   ]
  },
  {
   "cell_type": "code",
   "execution_count": 4,
   "metadata": {},
   "outputs": [
    {
     "name": "stdout",
     "output_type": "stream",
     "text": [
      "1\n",
      "12\n",
      "3\n",
      "6\n",
      "9\n",
      "12\n"
     ]
    }
   ],
   "source": [
    "### another method.\n",
    "### print all the value from a to b which are the multiple of 3\n",
    "\n",
    "a=int(input())\n",
    "b=int(input())\n",
    "if a%3==0:\n",
    "    s=a\n",
    "elif a%3==1:\n",
    "    s=a+2\n",
    "else:\n",
    "    s=a+1\n",
    "for x in range(s,b+1,3):\n",
    "    print(x)"
   ]
  },
  {
   "cell_type": "code",
   "execution_count": null,
   "metadata": {},
   "outputs": [],
   "source": [
    "### check for a prime number\n",
    "\n",
    "n=int(input())\n",
    "flag=False\n",
    "for x in range(2,n,1):\n",
    "    if n%x==0:\n",
    "        flag=True\n",
    "if (flag):\n",
    "    print(\"not prime number\")\n",
    "else:\n",
    "    print(\"prime number\")"
   ]
  },
  {
   "cell_type": "code",
   "execution_count": 18,
   "metadata": {},
   "outputs": [
    {
     "name": "stdout",
     "output_type": "stream",
     "text": [
      "4\n",
      "   1\n",
      "  232\n",
      " 34543\n",
      "4567654\n"
     ]
    }
   ],
   "source": [
    "### number pattern\n",
    "\n",
    "n=int(input())\n",
    "for i in range(1,n+1,1):\n",
    "    for x in range(n-i):\n",
    "        print(\" \",end=\"\")\n",
    "    for y in range(i,2*i,1):\n",
    "        print(y,end=\"\")\n",
    "    for z in range(2*i-2,i-1,-1):\n",
    "        print(z,end=\"\")\n",
    "    print()"
   ]
  },
  {
   "cell_type": "markdown",
   "metadata": {},
   "source": [
    "### break keyword"
   ]
  },
  {
   "cell_type": "code",
   "execution_count": 15,
   "metadata": {},
   "outputs": [
    {
     "name": "stdout",
     "output_type": "stream",
     "text": [
      "8\n",
      "not prime\n"
     ]
    }
   ],
   "source": [
    "### check for a prime number\n",
    "\n",
    "n=int(input())\n",
    "i=2\n",
    "flag=False\n",
    "while i<=n-1:\n",
    "    if n%i==0:\n",
    "        flag=True\n",
    "        break\n",
    "    i=i+1\n",
    "if not(flag):\n",
    "    print(\"prime\")\n",
    "else:\n",
    "    print(\"not prime\")"
   ]
  },
  {
   "cell_type": "code",
   "execution_count": 30,
   "metadata": {},
   "outputs": [
    {
     "name": "stdout",
     "output_type": "stream",
     "text": [
      "11\n",
      "2\n",
      "3\n",
      "5\n",
      "7\n",
      "11\n"
     ]
    }
   ],
   "source": [
    "### print all the prime number from 2 to n using while loop and \"break keyword\".\n",
    "\n",
    "n=int(input())\n",
    "i=2\n",
    "while i<=n:\n",
    "    j=2\n",
    "    flag=False\n",
    "    while j<i:\n",
    "        if i%j==0:\n",
    "            flag=True\n",
    "            break\n",
    "        j=j+1   \n",
    "    if not(flag):\n",
    "        print(i)\n",
    "    i=i+1"
   ]
  },
  {
   "cell_type": "code",
   "execution_count": 1,
   "metadata": {},
   "outputs": [
    {
     "name": "stdout",
     "output_type": "stream",
     "text": [
      "10\n",
      "2\n",
      "3\n",
      "5\n",
      "7\n"
     ]
    }
   ],
   "source": [
    "### print all the prime number from 2 to n using for loop and \"break\" keyword.\n",
    "\n",
    "n=int(input())\n",
    "for i in range(2,n+1,1):\n",
    "    flag=False\n",
    "    for x in range(2,i,1):\n",
    "        if i%x==0:\n",
    "            flag=True\n",
    "            break\n",
    "    if not (flag):\n",
    "        print(i)\n",
    "   "
   ]
  },
  {
   "cell_type": "markdown",
   "metadata": {},
   "source": [
    "### else keyword with the loop"
   ]
  },
  {
   "cell_type": "code",
   "execution_count": 18,
   "metadata": {},
   "outputs": [
    {
     "name": "stdout",
     "output_type": "stream",
     "text": [
      "2\n",
      "prime number\n"
     ]
    }
   ],
   "source": [
    "### check a number to be prime number\n",
    "### code inside the else loop will not run if the condition of while or for loop is finished bkz of break statement.\n",
    "n=int(input())\n",
    "for x in range(2,n,1):\n",
    "    if n%x==0:    ### n%x==0 is stoped by the break statement so that it can not hit the esle statement,\n",
    "        break     ### and so for not prime number ,the else statement will not executed .\n",
    "else:\n",
    "    print(\"prime number\")"
   ]
  },
  {
   "cell_type": "markdown",
   "metadata": {},
   "source": [
    "### continue keyword"
   ]
  },
  {
   "cell_type": "code",
   "execution_count": 23,
   "metadata": {},
   "outputs": [
    {
     "name": "stdout",
     "output_type": "stream",
     "text": [
      "20\n",
      "2\n",
      "4\n",
      "6\n",
      "8\n",
      "10\n",
      "12\n",
      "14\n",
      "16\n",
      "18\n",
      "20\n"
     ]
    }
   ],
   "source": [
    "### print all the even number but skip all the odd number.\n",
    "\n",
    "n=int(input())\n",
    "for x in range(1,n+1,1):\n",
    "    if x%2!=0:\n",
    "        continue\n",
    "    print(x)"
   ]
  },
  {
   "cell_type": "code",
   "execution_count": 26,
   "metadata": {},
   "outputs": [
    {
     "name": "stdout",
     "output_type": "stream",
     "text": [
      "20\n",
      "2\n",
      "4\n",
      "6\n",
      "8\n",
      "10\n",
      "12\n",
      "16\n",
      "18\n",
      "20\n"
     ]
    }
   ],
   "source": [
    "### print all the even number but skip the number which are multiple of 7.\n",
    "\n",
    "n=int(input())\n",
    "for x in range(2,n+1,2):\n",
    "    if x%7==0:\n",
    "        continue\n",
    "    print(x)\n",
    "\n"
   ]
  },
  {
   "cell_type": "code",
   "execution_count": 32,
   "metadata": {},
   "outputs": [
    {
     "name": "stdout",
     "output_type": "stream",
     "text": [
      "20\n",
      "1\n",
      "1\n",
      "2\n",
      "3\n",
      "3\n",
      "4\n",
      "5\n",
      "5\n",
      "6\n",
      "7\n",
      "7\n",
      "8\n",
      "9\n",
      "9\n",
      "10\n",
      "11\n",
      "11\n",
      "12\n",
      "13\n",
      "13\n",
      "14\n",
      "15\n",
      "15\n",
      "16\n",
      "17\n",
      "17\n",
      "18\n",
      "19\n",
      "19\n",
      "20\n"
     ]
    }
   ],
   "source": [
    "### print all the odd number twice and the even number once.\n",
    "\n",
    "n=int(input())\n",
    "for x in range(1,n+1,1):\n",
    "    print(x)\n",
    "    if x%2==0:\n",
    "        continue\n",
    "    print(x)"
   ]
  },
  {
   "cell_type": "code",
   "execution_count": 27,
   "metadata": {},
   "outputs": [
    {
     "name": "stdout",
     "output_type": "stream",
     "text": [
      "20\n",
      "2\n",
      "2\n",
      "4\n",
      "4\n",
      "6\n",
      "6\n",
      "8\n",
      "8\n",
      "10\n",
      "10\n",
      "12\n",
      "12\n",
      "14\n",
      "16\n",
      "16\n",
      "18\n",
      "18\n",
      "20\n",
      "20\n"
     ]
    }
   ],
   "source": [
    "### print all the even twice and the number which are multiple of 7 are printed once.\n",
    "\n",
    "n=int(input())\n",
    "for x in range(2,n+1,2):\n",
    "    print(x)\n",
    "    if x%7==0:\n",
    "        continue\n",
    "    print(x)"
   ]
  },
  {
   "cell_type": "markdown",
   "metadata": {},
   "source": [
    "### binary pattern"
   ]
  },
  {
   "cell_type": "code",
   "execution_count": 56,
   "metadata": {},
   "outputs": [
    {
     "name": "stdout",
     "output_type": "stream",
     "text": [
      "5\n",
      "11111\n",
      "0000\n",
      "111\n",
      "00\n",
      "1\n"
     ]
    }
   ],
   "source": [
    "### number pyramid using for loop.\n",
    "\n",
    "n=int(input())\n",
    "for i in range(1,n+1,1):\n",
    "    for j in range(n-i+1):\n",
    "        if i%2==0:\n",
    "            print(\"0\",end=\"\")\n",
    "        else:\n",
    "            print(\"1\",end=\"\")\n",
    "    print()"
   ]
  },
  {
   "cell_type": "code",
   "execution_count": 44,
   "metadata": {},
   "outputs": [
    {
     "name": "stdout",
     "output_type": "stream",
     "text": [
      "5\n",
      "11111\n",
      "0000\n",
      "111\n",
      "00\n",
      "1\n"
     ]
    }
   ],
   "source": [
    "###number pyramid using while loop.\n",
    "\n",
    "n=int(input())\n",
    "i=1\n",
    "while i<=n:\n",
    "    j=1\n",
    "    while j<=n-i+1:\n",
    "        if i%2==0:\n",
    "            print(\"0\",end=\"\")\n",
    "        else:\n",
    "            print(\"1\",end=\"\")\n",
    "        j=j+1\n",
    "    print()\n",
    "    i=i+1"
   ]
  },
  {
   "cell_type": "markdown",
   "metadata": {},
   "source": [
    "### assignment"
   ]
  },
  {
   "cell_type": "markdown",
   "metadata": {},
   "source": [
    "### rectangular pattern"
   ]
  },
  {
   "cell_type": "code",
   "execution_count": null,
   "metadata": {},
   "outputs": [],
   "source": [
    "4444444\n",
    "4333334\n",
    "4322234\n",
    "4321234\n",
    "4322234\n",
    "4333334  \n",
    "4444444"
   ]
  },
  {
   "cell_type": "code",
   "execution_count": 3,
   "metadata": {},
   "outputs": [
    {
     "name": "stdout",
     "output_type": "stream",
     "text": [
      "4\n",
      "4444***\n",
      "4333***\n",
      "4322***\n",
      "4321***\n",
      "4322234\n",
      "433334\n",
      "44444\n"
     ]
    }
   ],
   "source": [
    "n=int(input())\n",
    "i=1\n",
    "while i<=n:\n",
    "    sp1=1\n",
    "    while sp1<=i-1:\n",
    "        print(n-sp1+1,end=\"\")\n",
    "        sp1=sp1+1\n",
    "    no1=1\n",
    "    while no1<=n-i+1:\n",
    "        print(n-i+1,end=\"\")\n",
    "        no1=no1+1\n",
    "    no2=1\n",
    "    while no2<=n-1:\n",
    "        print(\"*\",end=\"\")\n",
    "        no2=no2+1\n",
    "    print()\n",
    "    i=i+1\n",
    "j=1\n",
    "while j<=n-1:\n",
    "    no3=1\n",
    "    k=0\n",
    "    while no3<=n-j:\n",
    "        print(n-k,end=\"\")\n",
    "        no3=no3+1\n",
    "        k=k+1\n",
    "    no4=1\n",
    "    while no4<=j:\n",
    "        print(j+1,end=\"\")\n",
    "        no4=no4+1\n",
    "    no5=1\n",
    "    m=0\n",
    "    while no5<=n-j:\n",
    "        print(j+1+m,end=\"\")\n",
    "        no5=no5+1\n",
    "        m=m+1\n",
    "    print()\n",
    "    j=j+1\n",
    "    "
   ]
  },
  {
   "cell_type": "code",
   "execution_count": 3,
   "metadata": {},
   "outputs": [
    {
     "name": "stdout",
     "output_type": "stream",
     "text": [
      "4\n",
      "4444444\n",
      "4333334\n",
      "4322234\n",
      "4321234\n",
      "4322234\n",
      "4333334\n",
      "4444444\n"
     ]
    }
   ],
   "source": [
    "n=int(input()) \n",
    "s = (2 * n) - 1\n",
    "for i in range(0, int(s / 2) + 1):  \n",
    "    m = n  \n",
    "    for j in range(0, i):  \n",
    "        print(m,end= \"\" ) \n",
    "        m=m-1\n",
    "    for k in range(0, s - 2 * i): \n",
    "        print(n-i,end= \"\" ) \n",
    "    m = n - i + 1\n",
    "    for l in range(0, i):  \n",
    "        print(m,end= \"\" )  \n",
    "        m=m+1\n",
    "    print(\"\") \n",
    "for i in range(int(s / 2),0,-1):  \n",
    "    m = n  \n",
    "    for j in range(0, i): \n",
    "        print(m,end= \"\" ) \n",
    "        m=m-1\n",
    "    for k in range(0, s - 2 * i): \n",
    "        print(n-i+1,end= \"\" ) \n",
    "    m = n - i + 1\n",
    "    for l in range(0, i):  \n",
    "        print(m,end= \"\" )  \n",
    "        m=m+1\n",
    "    print(\"\")  \n",
    "      \n",
    "\n"
   ]
  },
  {
   "cell_type": "code",
   "execution_count": 1,
   "metadata": {},
   "outputs": [
    {
     "name": "stdout",
     "output_type": "stream",
     "text": [
      "5\n",
      "1 2 3 4 5 \n",
      "11 12 13 14 15 \n",
      "21 22 23 24 25 \n",
      "16 17 18 19 20 \n",
      "6 7 8 9 10 \n"
     ]
    }
   ],
   "source": [
    "n= int(input())\n",
    "start= 1\n",
    "for i in range(1,n+1):\n",
    "     for j in range(start,start + n):\n",
    "            print(j,end=\" \")\n",
    "     print()\n",
    "     if(i==((n+1)//2)):\n",
    "        if((n%2)!=0):\n",
    "            start = n*(n-2)+1\n",
    "        else:\n",
    "            start = n*(n-1) + 1\n",
    "     elif((i>(n+1)//2)):\n",
    "            start = start - 2*n\n",
    "     else:\n",
    "            start = start + 2*n"
   ]
  },
  {
   "cell_type": "code",
   "execution_count": 9,
   "metadata": {},
   "outputs": [
    {
     "name": "stdout",
     "output_type": "stream",
     "text": [
      "5\n",
      "1  2  3  4  5  \n",
      "11  12  13  14  15  \n",
      "21  22  23  24  25  \n"
     ]
    }
   ],
   "source": [
    "### by me\n",
    "n=int(input())\n",
    "i=1\n",
    "k=0\n",
    "s=0\n",
    "while i<=3:\n",
    "    j=1+s\n",
    "    while j<=(n*i)+k:\n",
    "        print(j,\" \",end=\"\")\n",
    "        j=j+1\n",
    "    print()\n",
    "    i=i+1\n",
    "    k=k+5\n",
    "    s=s+10\n",
    "m=1\n",
    "while m<=n:\n",
    "    p=1"
   ]
  },
  {
   "cell_type": "code",
   "execution_count": null,
   "metadata": {},
   "outputs": [],
   "source": []
  }
 ],
 "metadata": {
  "kernelspec": {
   "display_name": "Python 3",
   "language": "python",
   "name": "python3"
  },
  "language_info": {
   "codemirror_mode": {
    "name": "ipython",
    "version": 3
   },
   "file_extension": ".py",
   "mimetype": "text/x-python",
   "name": "python",
   "nbconvert_exporter": "python",
   "pygments_lexer": "ipython3",
   "version": "3.7.4"
  }
 },
 "nbformat": 4,
 "nbformat_minor": 4
}
