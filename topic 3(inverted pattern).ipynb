{
 "cells": [
  {
   "cell_type": "markdown",
   "metadata": {},
   "source": [
    "### (1)inverted triangle"
   ]
  },
  {
   "cell_type": "markdown",
   "metadata": {},
   "source": [
    "1234\n",
    "123\n",
    "12\n",
    "1"
   ]
  },
  {
   "cell_type": "code",
   "execution_count": 1,
   "metadata": {},
   "outputs": [
    {
     "name": "stdout",
     "output_type": "stream",
     "text": [
      "5\n",
      "12345\n",
      "1234\n",
      "123\n",
      "12\n",
      "1\n"
     ]
    }
   ],
   "source": [
    "n=int(input())\n",
    "i=1\n",
    "while i<=n:\n",
    "    j=1\n",
    "    while j<=n-i+1:\n",
    "        print(j,end=\"\")\n",
    "        j=j+1\n",
    "    print()\n",
    "    i=i+1"
   ]
  },
  {
   "cell_type": "markdown",
   "metadata": {},
   "source": [
    "4444\n",
    "333\n",
    "22\n",
    "1"
   ]
  },
  {
   "cell_type": "code",
   "execution_count": 4,
   "metadata": {},
   "outputs": [
    {
     "name": "stdout",
     "output_type": "stream",
     "text": [
      "7\n",
      "7777777\n",
      "666666\n",
      "55555\n",
      "4444\n",
      "333\n",
      "22\n",
      "1\n"
     ]
    }
   ],
   "source": [
    "N=int(input())\n",
    "i=1\n",
    "while i<=N:\n",
    "    j=1\n",
    "    while j<=N-i+1:\n",
    "        print(N-i+1,end=\"\")\n",
    "        j=j+1\n",
    "    print()\n",
    "    i=i+1"
   ]
  },
  {
   "cell_type": "code",
   "execution_count": 1,
   "metadata": {},
   "outputs": [
    {
     "name": "stdout",
     "output_type": "stream",
     "text": [
      "4\n",
      "4444\n",
      "333\n",
      "22\n",
      "1\n"
     ]
    }
   ],
   "source": [
    "N=int(input())\n",
    "i=1\n",
    "while i<=N:\n",
    "    j=1\n",
    "    while j<=N-i+1:\n",
    "        print(N-i+1,end=\"\")\n",
    "        j=j+1\n",
    "    print()\n",
    "    i=i+1"
   ]
  },
  {
   "cell_type": "markdown",
   "metadata": {},
   "source": [
    "### (2)reversed triangle"
   ]
  },
  {
   "cell_type": "markdown",
   "metadata": {},
   "source": [
    "     *\n",
    "    **\n",
    "   ***\n",
    "  ****\n",
    " ***** "
   ]
  },
  {
   "cell_type": "code",
   "execution_count": 9,
   "metadata": {},
   "outputs": [
    {
     "name": "stdout",
     "output_type": "stream",
     "text": [
      "5\n",
      "    *\n",
      "   **\n",
      "  ***\n",
      " ****\n",
      "*****\n"
     ]
    }
   ],
   "source": [
    "n=int(input())\n",
    "i=1\n",
    "while i<=n:\n",
    "    spaces=1\n",
    "    while spaces<=n-i:\n",
    "        print(\" \" ,end=\"\")###give spaces between the comas is important\n",
    "        spaces=spaces+1\n",
    "    stars=1\n",
    "    while stars<=i:\n",
    "        print(\"*\",end=\"\")\n",
    "        stars=stars+1\n",
    "    print()\n",
    "    i=i+1"
   ]
  },
  {
   "cell_type": "markdown",
   "metadata": {},
   "source": [
    "   1\n",
    "  12\n",
    " 123\n",
    "1234"
   ]
  },
  {
   "cell_type": "code",
   "execution_count": 1,
   "metadata": {},
   "outputs": [
    {
     "name": "stdout",
     "output_type": "stream",
     "text": [
      "4\n",
      "   1\n",
      "  12\n",
      " 123\n",
      "1234\n"
     ]
    }
   ],
   "source": [
    "n=int(input())\n",
    "i=1\n",
    "while i<=n:\n",
    "    spaces=1\n",
    "    while spaces<=n-i:\n",
    "        print(\" \" ,end=\"\")###give spaces between the comas is important\n",
    "        spaces=spaces+1\n",
    "    stars=1\n",
    "    while stars<=i:\n",
    "        print(stars,end=\"\")\n",
    "        stars=stars+1\n",
    "    print()\n",
    "    i=i+1"
   ]
  },
  {
   "cell_type": "markdown",
   "metadata": {},
   "source": [
    "### (3) isosceles pattern"
   ]
  },
  {
   "cell_type": "markdown",
   "metadata": {},
   "source": [
    "   *\n",
    "  ***\n",
    " *****\n",
    "*******\n",
    " "
   ]
  },
  {
   "cell_type": "markdown",
   "metadata": {},
   "source": [
    "### see the notes to understand the logic.\n",
    "### devide these type of pattern into two parts"
   ]
  },
  {
   "cell_type": "code",
   "execution_count": 17,
   "metadata": {},
   "outputs": [
    {
     "name": "stdout",
     "output_type": "stream",
     "text": [
      "5\n",
      "    *\n",
      "   ***\n",
      "  *****\n",
      " *******\n",
      "*********\n"
     ]
    }
   ],
   "source": [
    "n=int(input())\n",
    "i=1\n",
    "while i<=n:\n",
    "    spaces=1\n",
    "    while spaces<=n-i:\n",
    "        print(\" \" ,end=\"\")###give spaces between the comas is important\n",
    "        spaces=spaces+1\n",
    "    star1=1\n",
    "    while star1<=i:\n",
    "        print(\"*\",end=\"\")\n",
    "        star1=star1+1\n",
    "    star2=1\n",
    "    while star2<i:\n",
    "        print(\"*\",end=\"\")\n",
    "        star2=star2+1\n",
    "    print()\n",
    "    i=i+1"
   ]
  },
  {
   "cell_type": "markdown",
   "metadata": {},
   "source": [
    "   1\n",
    "  121\n",
    " 12321\n",
    "1234321"
   ]
  },
  {
   "cell_type": "code",
   "execution_count": 2,
   "metadata": {},
   "outputs": [
    {
     "name": "stdout",
     "output_type": "stream",
     "text": [
      "5\n",
      "    1\n",
      "   121\n",
      "  12321\n",
      " 1234321\n",
      "123454321\n"
     ]
    }
   ],
   "source": [
    "n=int(input())\n",
    "i=1\n",
    "while i<=n:\n",
    "    spaces=1\n",
    "    while spaces<=n-i:\n",
    "        print(\" \" ,end=\"\")###give spaces between the comas is important\n",
    "        spaces=spaces+1\n",
    "    part1=1\n",
    "    while part1<=i:\n",
    "        print(part1,end=\"\")\n",
    "        part1=part1+1\n",
    "    part2=1\n",
    "    k=1\n",
    "    while part2<i:\n",
    "        print(i-k,end=\"\")\n",
    "        part2=part2+1\n",
    "        k=k+1\n",
    "    print()\n",
    "    i=i+1"
   ]
  },
  {
   "cell_type": "code",
   "execution_count": 7,
   "metadata": {},
   "outputs": [
    {
     "name": "stdout",
     "output_type": "stream",
     "text": [
      "3\n",
      "  1\n",
      " 121\n",
      "12321\n"
     ]
    }
   ],
   "source": [
    "###another method\n",
    "n=int(input())\n",
    "i=1\n",
    "while i<=n:\n",
    "    spaces=1\n",
    "    while spaces<=n-i:\n",
    "        print(\" \" ,end=\"\")###give spaces between the comas is important\n",
    "        spaces=spaces+1\n",
    "    part1=1\n",
    "    while part1<=i:\n",
    "        print(part1,end=\"\")\n",
    "        part1=part1+1\n",
    "    part2=1\n",
    "    k=0\n",
    "    while part2<=i-1:\n",
    "        print(i-1-k,end=\"\")\n",
    "        part2=part2+1\n",
    "        k=k+1\n",
    "    print()\n",
    "    i=i+1"
   ]
  },
  {
   "cell_type": "markdown",
   "metadata": {},
   "source": [
    "   1\n",
    "  232\n",
    " 34543\n",
    "4567654"
   ]
  },
  {
   "cell_type": "code",
   "execution_count": 6,
   "metadata": {},
   "outputs": [
    {
     "name": "stdout",
     "output_type": "stream",
     "text": [
      "5\n",
      "    1\n",
      "   232\n",
      "  34534\n",
      " 4567456\n",
      "567895678\n"
     ]
    }
   ],
   "source": [
    "n=int(input())\n",
    "i=1\n",
    "while i<=n:\n",
    "    spaces=1\n",
    "    while spaces<=n-i:\n",
    "        print(\" \" ,end=\"\")###give spaces between the comas is important\n",
    "        spaces=spaces+1\n",
    "    part1=1\n",
    "    m=0\n",
    "    while part1<=i:\n",
    "        print(i+m,end=\"\")\n",
    "        part1=part1+1\n",
    "        m=m+1\n",
    "    part2=1\n",
    "    x=0\n",
    "    while part2<=i-1:\n",
    "        print(2*i-2-x,end=\"\")\n",
    "        part2=part2+1\n",
    "        x=x+1\n",
    "    print()\n",
    "    i=i+1"
   ]
  },
  {
   "cell_type": "markdown",
   "metadata": {},
   "source": [
    "### (4) diamond of stars"
   ]
  },
  {
   "cell_type": "code",
   "execution_count": 4,
   "metadata": {},
   "outputs": [
    {
     "name": "stdout",
     "output_type": "stream",
     "text": [
      "7\n",
      "   *\n",
      "  ***\n",
      " *****\n",
      "*******\n",
      " *****\n",
      "  ***\n",
      "   *\n"
     ]
    }
   ],
   "source": [
    "n=int(input())### n should only be odd                           \n",
    "p1=(n+1)/2\n",
    "i=1\n",
    "while i<=p1:\n",
    "    space1=1\n",
    "    while space1<=p1-i:\n",
    "        print(\" \",end=\"\")\n",
    "        space1=space1+1\n",
    "    star1=1\n",
    "    while star1<=i:\n",
    "        print(\"*\",end=\"\")\n",
    "        star1=star1+1\n",
    "    star2=1\n",
    "    while star2<=i-1:\n",
    "        print(\"*\",end=\"\")\n",
    "        star2=star2+1\n",
    "    print()\n",
    "    i=i+1\n",
    "j=1\n",
    "while j<=p1-1:\n",
    "        space2=1\n",
    "        while space2<=j:\n",
    "            print(\" \",end=\"\")\n",
    "            space2=space2+1\n",
    "        star3=1\n",
    "        while star3<=p1-j:\n",
    "            print(\"*\",end=\"\")\n",
    "            star3=star3+1\n",
    "        star4=1\n",
    "        while star4<=p1-j-1:\n",
    "            print(\"*\",end=\"\")\n",
    "            star4=star4+1\n",
    "        print()\n",
    "        j=j+1\n",
    "        "
   ]
  },
  {
   "cell_type": "markdown",
   "metadata": {},
   "source": [
    "   1\n",
    "  212\n",
    " 32123\n",
    "4321234\n"
   ]
  },
  {
   "cell_type": "code",
   "execution_count": 27,
   "metadata": {},
   "outputs": [
    {
     "name": "stdout",
     "output_type": "stream",
     "text": [
      "5\n",
      "    1\n",
      "   212\n",
      "  32123\n",
      " 4321234\n",
      "543212345\n"
     ]
    }
   ],
   "source": [
    "n=int(input())\n",
    "i=1\n",
    "while i<=n:\n",
    "    spaces=1\n",
    "    while spaces<=n-i:\n",
    "        print(\" \" ,end=\"\")###give spaces between the comas is important\n",
    "        spaces=spaces+1\n",
    "    part1=1\n",
    "    m=0\n",
    "    while part1<=i:\n",
    "        print(i-m,end=\"\")\n",
    "        part1=part1+1\n",
    "        m=m+1\n",
    "    part2=1\n",
    "    k=2\n",
    "    while part2<=i-1:\n",
    "        print(k,end=\"\")\n",
    "        part2=part2+1\n",
    "        k=k+1\n",
    "    print()\n",
    "    i=i+1"
   ]
  },
  {
   "cell_type": "markdown",
   "metadata": {},
   "source": [
    "1        1\n",
    "12      21\n",
    "123    321\n",
    "1234  4321\n",
    "1234554321"
   ]
  },
  {
   "cell_type": "code",
   "execution_count": 37,
   "metadata": {},
   "outputs": [
    {
     "name": "stdout",
     "output_type": "stream",
     "text": [
      "7\n",
      "1            1\n",
      "12          21\n",
      "123        321\n",
      "1234      4321\n",
      "12345    54321\n",
      "123456  654321\n",
      "12345677654321\n"
     ]
    }
   ],
   "source": [
    "n=int(input())\n",
    "i=1\n",
    "while i<=n:\n",
    "    j=1\n",
    "    while j<=i:\n",
    "        print(j,end=\"\")\n",
    "        j=j+1\n",
    "    space=1\n",
    "    while space<=(2*n)-(2*i):\n",
    "        print(\" \",end=\"\")\n",
    "        space=space+1\n",
    "    k=1\n",
    "    s=0\n",
    "    while k<=i:\n",
    "        print(i-s,end=\"\")\n",
    "        k=k+1\n",
    "        s=s+1\n",
    "    print()\n",
    "    i=i+1\n"
   ]
  },
  {
   "cell_type": "markdown",
   "metadata": {},
   "source": [
    "*000*000*\n",
    "0*00*00*0\n",
    "00*0*0*00\n",
    "000***000"
   ]
  },
  {
   "cell_type": "code",
   "execution_count": 60,
   "metadata": {},
   "outputs": [
    {
     "name": "stdout",
     "output_type": "stream",
     "text": [
      "5\n",
      "*0000*0000*\n",
      "0*000*000*0\n",
      "00*00*00*00\n",
      "000*0*0*000\n",
      "0000***0000\n"
     ]
    }
   ],
   "source": [
    "n=int(input())\n",
    "i=1\n",
    "while i<=n:\n",
    "    zero1=1\n",
    "    while zero1<=i-1:\n",
    "        print(\"0\",end=\"\")\n",
    "        zero1=zero1+1\n",
    "    star1=1\n",
    "    while star1<=1:\n",
    "        print(\"*\",end=\"\")\n",
    "        star1=star1+1\n",
    "    zero2=1\n",
    "    while zero2<=n-i:\n",
    "        print(\"0\",end=\"\")\n",
    "        zero2=zero2+1\n",
    "    star2=1\n",
    "    while star2<=1:\n",
    "        print(\"*\",end=\"\")\n",
    "        star2=star2+1\n",
    "    zero3=1\n",
    "    while zero3<=n-i:\n",
    "        print(\"0\",end=\"\")\n",
    "        zero3=zero3+1\n",
    "    star3=1\n",
    "    while star3<=1:\n",
    "        print(\"*\",end=\"\")\n",
    "        star3=star3+1\n",
    "    zero4=1\n",
    "    while zero4<=i-1:\n",
    "        print(\"0\",end=\"\")\n",
    "        zero4=zero4+1\n",
    "    print()\n",
    "    i=i+1"
   ]
  },
  {
   "cell_type": "markdown",
   "metadata": {},
   "source": [
    "### (5) arrow pattern"
   ]
  },
  {
   "cell_type": "code",
   "execution_count": 14,
   "metadata": {},
   "outputs": [
    {
     "name": "stdout",
     "output_type": "stream",
     "text": [
      "9\n",
      "*\n",
      " * *\n",
      "  * * *\n",
      "   * * * *\n",
      "    * * * * *\n",
      "   * * * *\n",
      "  * * *\n",
      " * *\n",
      "*\n"
     ]
    }
   ],
   "source": [
    "n=int(input())\n",
    "p1=(n+1)/2\n",
    "i=1\n",
    "while i<=p1:\n",
    "    space1=1\n",
    "    while space1<=i-1:\n",
    "        print(\" \",end=\"\")\n",
    "        space1=space1+1\n",
    "    star1=1\n",
    "    while star1<=1:\n",
    "        print(\"*\",end=\"\")\n",
    "        star1=star1+1\n",
    "    ss1=1                    ###ss1=space & star of upper part\n",
    "    while ss1<=i-1:\n",
    "        print(\" *\",end=\"\")\n",
    "        ss1=ss1+1\n",
    "    print()\n",
    "    i=i+1\n",
    "j=1\n",
    "while j<=p1-1:\n",
    "    space2=1\n",
    "    while space2<=p1-1-j:\n",
    "        print(\" \",end=\"\")\n",
    "        space2=space2+1\n",
    "    star2=1\n",
    "    while star2<=1:\n",
    "        print(\"*\",end=\"\")\n",
    "        star2=star2+1\n",
    "    ss2=1\n",
    "    while ss2<=p1-1-j:       ###ss2=space & star of below part\n",
    "        print(\" *\",end=\"\")\n",
    "        ss2=ss2+1\n",
    "    print()\n",
    "    j=j+1"
   ]
  },
  {
   "cell_type": "markdown",
   "metadata": {},
   "source": [
    "### (6) number pyramid"
   ]
  },
  {
   "cell_type": "code",
   "execution_count": 5,
   "metadata": {},
   "outputs": [
    {
     "name": "stdout",
     "output_type": "stream",
     "text": [
      "7\n",
      "1234567\n",
      " 234567\n",
      "  34567\n",
      "   4567\n",
      "    567\n",
      "     67\n",
      "      7\n",
      "     67\n",
      "    567\n",
      "   4567\n",
      "  34567\n",
      " 234567\n",
      "1234567\n"
     ]
    }
   ],
   "source": [
    "n=int(input())\n",
    "i=1\n",
    "while i<=n:\n",
    "    space1=1\n",
    "    while space1<=i-1:\n",
    "        print(\" \",end=\"\")\n",
    "        space1=space1+1\n",
    "    p1=1\n",
    "    m=0\n",
    "    while p1<=n-i+1:\n",
    "        print(i+m,end=\"\")\n",
    "        p1=p1+1\n",
    "        m=m+1\n",
    "    print()\n",
    "    i=i+1\n",
    "j=1\n",
    "while j<=n-1:\n",
    "    space2=1\n",
    "    while space2<=n-j-1:\n",
    "        print(\" \",end=\"\")\n",
    "        space2=space2+1\n",
    "    p2=1\n",
    "    k=0\n",
    "    while p2<=j+1:\n",
    "        print(n-j+k,end=\"\")\n",
    "        p2=p2+1\n",
    "        k=k+1\n",
    "    print()\n",
    "    j=j+1"
   ]
  },
  {
   "cell_type": "markdown",
   "metadata": {},
   "source": [
    "### (7) number pyramid"
   ]
  },
  {
   "cell_type": "code",
   "execution_count": 15,
   "metadata": {},
   "outputs": [
    {
     "name": "stdout",
     "output_type": "stream",
     "text": [
      "7\n",
      "1111111\n",
      "000000\n",
      "11111\n",
      "0000\n",
      "111\n",
      "00\n",
      "1\n"
     ]
    }
   ],
   "source": [
    "n=int(input())\n",
    "i=1\n",
    "while i<=n:\n",
    "    j=1\n",
    "    while j<=n-i+1:\n",
    "        if i%2==0:\n",
    "            print(\"0\",end=\"\")\n",
    "        else:\n",
    "            print(\"1\",end=\"\")\n",
    "        j=j+1\n",
    "    print()\n",
    "    i=i+1"
   ]
  },
  {
   "cell_type": "code",
   "execution_count": null,
   "metadata": {},
   "outputs": [],
   "source": []
  }
 ],
 "metadata": {
  "kernelspec": {
   "display_name": "Python 3",
   "language": "python",
   "name": "python3"
  },
  "language_info": {
   "codemirror_mode": {
    "name": "ipython",
    "version": 3
   },
   "file_extension": ".py",
   "mimetype": "text/x-python",
   "name": "python",
   "nbconvert_exporter": "python",
   "pygments_lexer": "ipython3",
   "version": "3.7.4"
  }
 },
 "nbformat": 4,
 "nbformat_minor": 4
}
