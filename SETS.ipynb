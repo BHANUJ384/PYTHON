{
  "nbformat": 4,
  "nbformat_minor": 0,
  "metadata": {
    "kernelspec": {
      "display_name": "Python 3",
      "language": "python",
      "name": "python3"
    },
    "language_info": {
      "codemirror_mode": {
        "name": "ipython",
        "version": 3
      },
      "file_extension": ".py",
      "mimetype": "text/x-python",
      "name": "python",
      "nbconvert_exporter": "python",
      "pygments_lexer": "ipython3",
      "version": "3.6.1"
    },
    "colab": {
      "name": "2.4.ipynb",
      "provenance": []
    }
  },
  "cells": [
    {
      "cell_type": "markdown",
      "metadata": {
        "id": "HEj_X3hQ8Edv"
      },
      "source": [
        "# Sets"
      ]
    },
    {
      "cell_type": "markdown",
      "metadata": {
        "id": "lXOOt8CK8Edy"
      },
      "source": [
        "-> A set is an unordered collection of items. Every element is unique (no duplicates).\n",
        "\n",
        "-> The set itself is mutable. We can add or remove items from it.\n",
        "\n",
        "-> Sets can be used to perform mathematical set operations like union, intersection, symmetric difference etc."
      ]
    },
    {
      "cell_type": "markdown",
      "metadata": {
        "id": "_qoRretv8Edz"
      },
      "source": [
        "# Set Creation"
      ]
    },
    {
      "cell_type": "code",
      "metadata": {
        "id": "DC0vTj9-8Ed0",
        "outputId": "77a90cc1-5183-41ce-d82c-2ea742d0b4ed"
      },
      "source": [
        "#set of integers\n",
        "s = {1, 2, 3}\n",
        "print(s)\n",
        "\n",
        "#print type of s \n",
        "print(type(s))"
      ],
      "execution_count": null,
      "outputs": [
        {
          "output_type": "stream",
          "text": [
            "set([1, 2, 3])\n",
            "<type 'set'>\n"
          ],
          "name": "stdout"
        }
      ]
    },
    {
      "cell_type": "code",
      "metadata": {
        "id": "acalSOGX8Ed1",
        "outputId": "5342af8c-5449-4f45-cfb6-71892bf2461f"
      },
      "source": [
        "#set doesn't allow duplicates. They store only one instance.\n",
        "s = {1, 2, 3, 1, 4}\n",
        "print(s)"
      ],
      "execution_count": null,
      "outputs": [
        {
          "output_type": "stream",
          "text": [
            "{1, 2, 3, 4}\n"
          ],
          "name": "stdout"
        }
      ]
    },
    {
      "cell_type": "code",
      "metadata": {
        "id": "B-LwtvHT8Ed2",
        "outputId": "6a57a94f-1426-4f18-e43f-877106ba5d00"
      },
      "source": [
        "#we can make set from a list\n",
        "s = set([1, 2, 3, 1])\n",
        "print(s)"
      ],
      "execution_count": null,
      "outputs": [
        {
          "output_type": "stream",
          "text": [
            "{1, 2, 3}\n"
          ],
          "name": "stdout"
        }
      ]
    },
    {
      "cell_type": "code",
      "metadata": {
        "id": "veW4Uio48Ed2",
        "outputId": "33d3bd4c-50d6-45ee-8831-22076f69f760"
      },
      "source": [
        "#initialize a set  with set() method\n",
        "s = set()\n",
        "\n",
        "print(type(s))"
      ],
      "execution_count": null,
      "outputs": [
        {
          "output_type": "stream",
          "text": [
            "<class 'set'>\n"
          ],
          "name": "stdout"
        }
      ]
    },
    {
      "cell_type": "markdown",
      "metadata": {
        "id": "fqCVhGsg8Ed3"
      },
      "source": [
        "# Add element to a Set"
      ]
    },
    {
      "cell_type": "code",
      "metadata": {
        "id": "fw25AWg28Ed3",
        "outputId": "80bf9770-98f8-4ba3-a8ef-abaf51d832cb"
      },
      "source": [
        "#we can add single element using add() method and \n",
        "#add multiple elements using update() method\n",
        "s = {1, 3}\n",
        "\n",
        "#set object doesn't support indexing\n",
        "print(s[1]) #will get TypeError"
      ],
      "execution_count": null,
      "outputs": [
        {
          "output_type": "error",
          "ename": "TypeError",
          "evalue": "'set' object does not support indexing",
          "traceback": [
            "\u001b[0;31m---------------------------------------------------------------------------\u001b[0m",
            "\u001b[0;31mTypeError\u001b[0m                                 Traceback (most recent call last)",
            "\u001b[0;32m<ipython-input-4-c52fc339e293>\u001b[0m in \u001b[0;36m<module>\u001b[0;34m()\u001b[0m\n\u001b[1;32m      4\u001b[0m \u001b[0;34m\u001b[0m\u001b[0m\n\u001b[1;32m      5\u001b[0m \u001b[0;31m#set object doesn't support indexing\u001b[0m\u001b[0;34m\u001b[0m\u001b[0;34m\u001b[0m\u001b[0m\n\u001b[0;32m----> 6\u001b[0;31m \u001b[0mprint\u001b[0m\u001b[0;34m(\u001b[0m\u001b[0ms\u001b[0m\u001b[0;34m[\u001b[0m\u001b[0;36m1\u001b[0m\u001b[0;34m]\u001b[0m\u001b[0;34m)\u001b[0m \u001b[0;31m#will get TypeError\u001b[0m\u001b[0;34m\u001b[0m\u001b[0m\n\u001b[0m",
            "\u001b[0;31mTypeError\u001b[0m: 'set' object does not support indexing"
          ]
        }
      ]
    },
    {
      "cell_type": "code",
      "metadata": {
        "id": "BdHUux508Ed4",
        "outputId": "7102c060-de41-44d8-d04d-de17ee017ed4"
      },
      "source": [
        "#add element\n",
        "s.add(2)\n",
        "print(s)"
      ],
      "execution_count": null,
      "outputs": [
        {
          "output_type": "stream",
          "text": [
            "{1, 2, 3}\n"
          ],
          "name": "stdout"
        }
      ]
    },
    {
      "cell_type": "code",
      "metadata": {
        "id": "1QTyZDTm8Ed4",
        "outputId": "7ca0d909-ab1d-4e3a-f8b5-c061383ab28e"
      },
      "source": [
        "#add multiple elements\n",
        "s.update([5, 6, 1])\n",
        "print(s)"
      ],
      "execution_count": null,
      "outputs": [
        {
          "output_type": "stream",
          "text": [
            "{1, 2, 3, 5, 6}\n"
          ],
          "name": "stdout"
        }
      ]
    },
    {
      "cell_type": "code",
      "metadata": {
        "id": "6WVHWk7j8Ed5",
        "outputId": "66de43cf-c597-4386-b7b1-706f33a97818"
      },
      "source": [
        "#add list and set\n",
        "s.update([8, 9], {10, 2, 3})\n",
        "print(s)"
      ],
      "execution_count": null,
      "outputs": [
        {
          "output_type": "stream",
          "text": [
            "{1, 2, 3, 5, 6, 8, 9, 10}\n"
          ],
          "name": "stdout"
        }
      ]
    },
    {
      "cell_type": "markdown",
      "metadata": {
        "id": "dapAOUYX8Ed5"
      },
      "source": [
        "# Remove elements from a Set"
      ]
    },
    {
      "cell_type": "code",
      "metadata": {
        "id": "KpUosZyc8Ed5",
        "outputId": "96ae2000-369f-4929-9d11-d8876c072a88"
      },
      "source": [
        "#A particular item can be removed from set using methods, \n",
        "#discard() and remove().\n",
        "\n",
        "s = {1, 2, 3, 5, 4}\n",
        "print(s)\n",
        "\n",
        "s.discard(4)    #4 is removed from set s\n",
        "\n",
        "print(s)"
      ],
      "execution_count": null,
      "outputs": [
        {
          "output_type": "stream",
          "text": [
            "{1, 2, 3, 4, 5}\n",
            "{1, 2, 3, 5}\n"
          ],
          "name": "stdout"
        }
      ]
    },
    {
      "cell_type": "code",
      "metadata": {
        "id": "j_DvbrHk8Ed6",
        "outputId": "596cd770-27d0-4947-f1c8-ac7f5c40b49b"
      },
      "source": [
        "#remove an element \n",
        "s.remove(2)\n",
        "\n",
        "print(s)"
      ],
      "execution_count": null,
      "outputs": [
        {
          "output_type": "stream",
          "text": [
            "{1, 3, 5}\n"
          ],
          "name": "stdout"
        }
      ]
    },
    {
      "cell_type": "code",
      "metadata": {
        "id": "Qa6xr_go8Ed6",
        "outputId": "2e562bb4-56bf-420d-ebc4-92a82fe1b594"
      },
      "source": [
        "#remove an element not present in a set s\n",
        "s.remove(7) # will get KeyError"
      ],
      "execution_count": null,
      "outputs": [
        {
          "output_type": "error",
          "ename": "KeyError",
          "evalue": "7",
          "traceback": [
            "\u001b[0;31m---------------------------------------------------------------------------\u001b[0m",
            "\u001b[0;31mKeyError\u001b[0m                                  Traceback (most recent call last)",
            "\u001b[0;32m<ipython-input-14-f37cc9806699>\u001b[0m in \u001b[0;36m<module>\u001b[0;34m()\u001b[0m\n\u001b[1;32m      1\u001b[0m \u001b[0;31m#remove an element not present in a set s\u001b[0m\u001b[0;34m\u001b[0m\u001b[0;34m\u001b[0m\u001b[0m\n\u001b[0;32m----> 2\u001b[0;31m \u001b[0ms\u001b[0m\u001b[0;34m.\u001b[0m\u001b[0mremove\u001b[0m\u001b[0;34m(\u001b[0m\u001b[0;36m7\u001b[0m\u001b[0;34m)\u001b[0m \u001b[0;31m# will get KeyError\u001b[0m\u001b[0;34m\u001b[0m\u001b[0m\n\u001b[0m",
            "\u001b[0;31mKeyError\u001b[0m: 7"
          ]
        }
      ]
    },
    {
      "cell_type": "code",
      "metadata": {
        "id": "BXRpgPQW8Ed7",
        "outputId": "ab819d7a-effe-4e0f-f551-781cc633ea2d"
      },
      "source": [
        "#discard an element not present in a set s\n",
        "s.discard(7)\n",
        "print(s)"
      ],
      "execution_count": null,
      "outputs": [
        {
          "output_type": "stream",
          "text": [
            "{1, 3, 5}\n"
          ],
          "name": "stdout"
        }
      ]
    },
    {
      "cell_type": "code",
      "metadata": {
        "id": "JDCchOhw8Ed7",
        "outputId": "38b07117-832d-4ec4-f47b-2e276463082f"
      },
      "source": [
        "#we can remove item using pop() method\n",
        "\n",
        "s = {1, 2, 3, 5, 4}\n",
        "\n",
        "s.pop() #remove random element\n",
        "\n",
        "print(s)"
      ],
      "execution_count": null,
      "outputs": [
        {
          "output_type": "stream",
          "text": [
            "{2, 3, 4, 5}\n"
          ],
          "name": "stdout"
        }
      ]
    },
    {
      "cell_type": "code",
      "metadata": {
        "id": "br5oY0N68Ed7",
        "outputId": "1acc573e-f46a-4e91-b793-f4ef8567bd45"
      },
      "source": [
        "s.pop() \n",
        "print(s)"
      ],
      "execution_count": null,
      "outputs": [
        {
          "output_type": "stream",
          "text": [
            "{3, 4, 5}\n"
          ],
          "name": "stdout"
        }
      ]
    },
    {
      "cell_type": "code",
      "metadata": {
        "id": "0DHuq0k28Ed8",
        "outputId": "d23b4f85-d405-4b3b-a98c-29472255232b"
      },
      "source": [
        "s = {1, 5, 2, 3, 6}\n",
        "\n",
        "s.clear()   #remove all items in set using clear() method\n",
        "\n",
        "print(s)"
      ],
      "execution_count": null,
      "outputs": [
        {
          "output_type": "stream",
          "text": [
            "set()\n"
          ],
          "name": "stdout"
        }
      ]
    },
    {
      "cell_type": "markdown",
      "metadata": {
        "id": "A9MoMU5e8Ed8"
      },
      "source": [
        "# Python Set Operations"
      ]
    },
    {
      "cell_type": "code",
      "metadata": {
        "id": "uffpb2V98Ed8",
        "outputId": "b2401a48-cf04-4039-f2e8-855242a594e2"
      },
      "source": [
        "set1 = {1, 2, 3, 4, 5}\n",
        "set2 = {3, 4, 5, 6, 7}\n",
        "\n",
        "#union of 2 sets using | operator\n",
        "\n",
        "print(set1 | set2)"
      ],
      "execution_count": null,
      "outputs": [
        {
          "output_type": "stream",
          "text": [
            "{1, 2, 3, 4, 5, 6, 7}\n"
          ],
          "name": "stdout"
        }
      ]
    },
    {
      "cell_type": "code",
      "metadata": {
        "id": "kEMKRL8m8Ed9",
        "outputId": "016995cb-c6a0-437b-cc8a-81112c3f8e5e"
      },
      "source": [
        "#another way of getting union of 2 sets\n",
        "print(set1.union(set2))"
      ],
      "execution_count": null,
      "outputs": [
        {
          "output_type": "stream",
          "text": [
            "{1, 2, 3, 4, 5, 6, 7}\n"
          ],
          "name": "stdout"
        }
      ]
    },
    {
      "cell_type": "code",
      "metadata": {
        "id": "GgtkA9Q98Ed9",
        "outputId": "cf9b9c58-c197-4b81-88d1-9c1f4a60f284"
      },
      "source": [
        "#intersection of 2 sets using & operator\n",
        "print(set1 & set2)"
      ],
      "execution_count": null,
      "outputs": [
        {
          "output_type": "stream",
          "text": [
            "{3, 4, 5}\n"
          ],
          "name": "stdout"
        }
      ]
    },
    {
      "cell_type": "code",
      "metadata": {
        "id": "q32vxQrO8Ed-",
        "outputId": "754a99cd-77df-46f2-91ba-b601e73fef63"
      },
      "source": [
        "#use intersection function \n",
        "print(set1.intersection(set2))"
      ],
      "execution_count": null,
      "outputs": [
        {
          "output_type": "stream",
          "text": [
            "{3, 4, 5}\n"
          ],
          "name": "stdout"
        }
      ]
    },
    {
      "cell_type": "code",
      "metadata": {
        "id": "7nGwxonX8Ed-",
        "outputId": "e55be062-235b-4689-df3f-e66f3505c322"
      },
      "source": [
        "#set Difference: set of elements that are only in set1 but not in set2\n",
        "\n",
        "print(set1 - set2)"
      ],
      "execution_count": null,
      "outputs": [
        {
          "output_type": "stream",
          "text": [
            "{1, 2}\n"
          ],
          "name": "stdout"
        }
      ]
    },
    {
      "cell_type": "code",
      "metadata": {
        "id": "JO8BZns08Ed-",
        "outputId": "0215aba1-a5a3-4a63-95bb-9ab7d7a316eb"
      },
      "source": [
        "#use differnce function \n",
        "print(set1.difference(set2))"
      ],
      "execution_count": null,
      "outputs": [
        {
          "output_type": "stream",
          "text": [
            "{1, 2}\n"
          ],
          "name": "stdout"
        }
      ]
    },
    {
      "cell_type": "code",
      "metadata": {
        "id": "LzPtw81x8Ed_",
        "outputId": "e0801ce3-3e69-426c-8dc2-9a5c89e18889"
      },
      "source": [
        "\"\"\"symmetric difference: set of elements in both set1 and set2 \n",
        "#except those that are common in both.\"\"\"\n",
        "\n",
        "#use ^ operator\n",
        "\n",
        "print(set1^set2)"
      ],
      "execution_count": null,
      "outputs": [
        {
          "output_type": "stream",
          "text": [
            "{1, 2, 6, 7}\n"
          ],
          "name": "stdout"
        }
      ]
    },
    {
      "cell_type": "code",
      "metadata": {
        "id": "CNUSUxuL8Ed_",
        "outputId": "23088040-ca4b-4f04-ec7e-414192fefb16"
      },
      "source": [
        "#use symmetric_difference function\n",
        "print(set1.symmetric_difference(set2))"
      ],
      "execution_count": null,
      "outputs": [
        {
          "output_type": "stream",
          "text": [
            "{1, 2, 6, 7}\n"
          ],
          "name": "stdout"
        }
      ]
    },
    {
      "cell_type": "code",
      "metadata": {
        "id": "-c7nYGQC8Ed_",
        "outputId": "6236ef6b-0512-4bfa-8485-6ec1ced153f7"
      },
      "source": [
        "#find issubset()\n",
        "x = {\"a\",\"b\",\"c\",\"d\",\"e\"}\n",
        "y = {\"c\",\"d\"}\n",
        "\n",
        "print(\"set 'x' is subset of 'y' ?\", x.issubset(y)) #check x is subset of y\n",
        "\n",
        "#check y is subset of x\n",
        "print(\"set 'y' is subset of 'x' ?\", y.issubset(x))"
      ],
      "execution_count": null,
      "outputs": [
        {
          "output_type": "stream",
          "text": [
            "set 'x' is subset of 'y' ? False\n",
            "set 'y' is subset of 'x' ? True\n"
          ],
          "name": "stdout"
        }
      ]
    },
    {
      "cell_type": "markdown",
      "metadata": {
        "id": "18LeUpIf8EeA"
      },
      "source": [
        "# Frozen Sets"
      ]
    },
    {
      "cell_type": "markdown",
      "metadata": {
        "collapsed": true,
        "id": "8A28PF918EeA"
      },
      "source": [
        "Frozen sets has the characteristics of sets, but we can't be changed once it's assigned. While tuple are immutable lists, frozen sets are immutable sets"
      ]
    },
    {
      "cell_type": "markdown",
      "metadata": {
        "id": "R1y5HgOm8EeA"
      },
      "source": [
        "Frozensets can be created using the function frozenset()"
      ]
    },
    {
      "cell_type": "markdown",
      "metadata": {
        "id": "mGiTEruJ8EeA"
      },
      "source": [
        "Sets being mutable are unhashable, so they can't be used as dictionary keys. On the other hand, frozensets are hashable and can be used as keys to a dictionary."
      ]
    },
    {
      "cell_type": "markdown",
      "metadata": {
        "id": "pIAJSwJc8EeB"
      },
      "source": [
        "This datatype supports methods like copy(), difference(), intersection(), isdisjoint(), issubset(), issuperset(), symmetric_difference() and union(). Being immutable it does not have method that add or remove elements."
      ]
    },
    {
      "cell_type": "code",
      "metadata": {
        "id": "ROlbUsPO8EeB",
        "outputId": "572430da-17c9-44d7-b450-ceb3323d5307"
      },
      "source": [
        "set1 = frozenset([1, 2, 3, 4])\n",
        "set2 = frozenset([3, 4, 5, 6])\n",
        "\n",
        "#try to add element into set1 gives an error\n",
        "set1.add(5)"
      ],
      "execution_count": null,
      "outputs": [
        {
          "output_type": "error",
          "ename": "AttributeError",
          "evalue": "'frozenset' object has no attribute 'add'",
          "traceback": [
            "\u001b[0;31m---------------------------------------------------------------------------\u001b[0m",
            "\u001b[0;31mAttributeError\u001b[0m                            Traceback (most recent call last)",
            "\u001b[0;32m<ipython-input-28-8f5ea3d0c7e1>\u001b[0m in \u001b[0;36m<module>\u001b[0;34m()\u001b[0m\n\u001b[1;32m      3\u001b[0m \u001b[0;34m\u001b[0m\u001b[0m\n\u001b[1;32m      4\u001b[0m \u001b[0;31m#try to add element into set1 gives an error\u001b[0m\u001b[0;34m\u001b[0m\u001b[0;34m\u001b[0m\u001b[0m\n\u001b[0;32m----> 5\u001b[0;31m \u001b[0mset1\u001b[0m\u001b[0;34m.\u001b[0m\u001b[0madd\u001b[0m\u001b[0;34m(\u001b[0m\u001b[0;36m5\u001b[0m\u001b[0;34m)\u001b[0m\u001b[0;34m\u001b[0m\u001b[0m\n\u001b[0m",
            "\u001b[0;31mAttributeError\u001b[0m: 'frozenset' object has no attribute 'add'"
          ]
        }
      ]
    },
    {
      "cell_type": "code",
      "metadata": {
        "id": "Nr-qaXhW8EeB",
        "outputId": "127193f7-e756-41c4-eff3-eb11b918950b"
      },
      "source": [
        "print(set1[1]) # frozen set doesn't support indexing"
      ],
      "execution_count": null,
      "outputs": [
        {
          "output_type": "error",
          "ename": "TypeError",
          "evalue": "'frozenset' object does not support indexing",
          "traceback": [
            "\u001b[0;31m---------------------------------------------------------------------------\u001b[0m",
            "\u001b[0;31mTypeError\u001b[0m                                 Traceback (most recent call last)",
            "\u001b[0;32m<ipython-input-27-8fc108f08ec8>\u001b[0m in \u001b[0;36m<module>\u001b[0;34m()\u001b[0m\n\u001b[0;32m----> 1\u001b[0;31m \u001b[0mprint\u001b[0m\u001b[0;34m(\u001b[0m\u001b[0mset1\u001b[0m\u001b[0;34m[\u001b[0m\u001b[0;36m1\u001b[0m\u001b[0;34m]\u001b[0m\u001b[0;34m)\u001b[0m \u001b[0;31m# frozen set doesn't support indexing\u001b[0m\u001b[0;34m\u001b[0m\u001b[0m\n\u001b[0m",
            "\u001b[0;31mTypeError\u001b[0m: 'frozenset' object does not support indexing"
          ]
        }
      ]
    },
    {
      "cell_type": "code",
      "metadata": {
        "id": "AZgTQ_Zd8EeC",
        "outputId": "d3cd267f-29ae-464a-89e0-87dfda6a82e2"
      },
      "source": [
        "print(set1 | set2) #union of 2 sets"
      ],
      "execution_count": null,
      "outputs": [
        {
          "output_type": "stream",
          "text": [
            "frozenset({1, 2, 3, 4, 5, 6})\n"
          ],
          "name": "stdout"
        }
      ]
    },
    {
      "cell_type": "code",
      "metadata": {
        "id": "f9s-O4Yi8EeC",
        "outputId": "8cebfb78-3226-4e05-8eb4-4472e451f955"
      },
      "source": [
        "#intersection of two sets\n",
        "print(set1 & set2)\n",
        "\n",
        "#or \n",
        "print(set1.intersection(set2))"
      ],
      "execution_count": null,
      "outputs": [
        {
          "output_type": "stream",
          "text": [
            "frozenset({3, 4})\n",
            "frozenset({3, 4})\n"
          ],
          "name": "stdout"
        }
      ]
    },
    {
      "cell_type": "code",
      "metadata": {
        "id": "-Wi7BYo88EeC",
        "outputId": "6c953a41-d8b7-42a3-ca17-75b289313688"
      },
      "source": [
        "#symmetric difference\n",
        "print(set1 ^ set2)\n",
        "\n",
        "#or\n",
        "print(set1.symmetric_difference(set2))"
      ],
      "execution_count": null,
      "outputs": [
        {
          "output_type": "stream",
          "text": [
            "frozenset({1, 2, 5, 6})\n",
            "frozenset({1, 2, 5, 6})\n"
          ],
          "name": "stdout"
        }
      ]
    },
    {
      "cell_type": "code",
      "metadata": {
        "collapsed": true,
        "id": "HuHEm02Y8EeD"
      },
      "source": [
        ""
      ],
      "execution_count": null,
      "outputs": []
    },
    {
      "cell_type": "code",
      "metadata": {
        "collapsed": true,
        "id": "xpd_pFBt8EeD"
      },
      "source": [
        ""
      ],
      "execution_count": null,
      "outputs": []
    }
  ]
}